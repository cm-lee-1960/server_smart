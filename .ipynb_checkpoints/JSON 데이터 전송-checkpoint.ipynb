{
 "cells": [
  {
   "cell_type": "code",
   "execution_count": 1,
   "id": "16b2a35f",
   "metadata": {},
   "outputs": [],
   "source": [
    "# 장고쉘을 수행하기 위해서는 반드시 실행시켜야 한다.\n",
    "import os\n",
    "os.environ[\"DJANGO_ALLOW_ASYNC_UNSAFE\"] = \"true\""
   ]
  },
  {
   "cell_type": "code",
   "execution_count": 31,
   "id": "abfb571b",
   "metadata": {},
   "outputs": [
    {
     "data": {
      "text/plain": [
       "500"
      ]
     },
     "execution_count": 31,
     "metadata": {},
     "output_type": "execute_result"
    }
   ],
   "source": [
    "# 한 건의 측정 데이터를 서버로 전송한다.\n",
    "import requests, json\n",
    "##### 다운로드 데이터 ######\n",
    "tmpData = {\n",
    "    'dataType' : 'call',\n",
    "    'phone_no' : 1044700193,\n",
    "    'meastime' : 202201302315000,\n",
    "    'networkId' : '5G',\n",
    "    'groupId' : '16357242412367e98748b7c84601a',\n",
    "#     'groupId' : '1635724/8333537e98748b7c84601a',\n",
    "    'currentCount' : 1,\n",
    "    'ispId' : '45008',\n",
    "    'testNetworkType' : 'speed',\n",
    "    'userInfo1' : '서울특별시-금천구-가산동',\n",
    "    'userInfo2' : '행-용택-1',\n",
    "    'downloadBandwidth' : 4,\n",
    "    'uploadBandwidth' : None,\n",
    "    'latitude' : 37.47653566,\n",
    "    'longitude' : 126.8913176,\n",
    "}\n",
    "jsonData = json.dumps(tmpData)\n",
    "r = requests.post(\"http://localhost:8000/monitor/json/\", data=jsonData)\n",
    "r.status_code"
   ]
  },
  {
   "cell_type": "code",
   "execution_count": 21,
   "id": "5a2d9b8f",
   "metadata": {},
   "outputs": [
    {
     "data": {
      "text/plain": [
       "200"
      ]
     },
     "execution_count": 21,
     "metadata": {},
     "output_type": "execute_result"
    }
   ],
   "source": [
    "# 한 건의 측정 데이터를 서버로 전송한다.\n",
    "import requests, json\n",
    "##### 업로드 데이터 ######\n",
    "tmpData = {\n",
    "    'dataType' : 'call',\n",
    "    'phone_no' : 1038130003,\n",
    "    'meastime' : 202201302315000,\n",
    "    'networkId' : '5G',\n",
    "    'groupId' : '16357242412367e98748b7c84601a',\n",
    "#     'groupId' : '16357248333537e98748b7c84601a',\n",
    "    'currentCount' : 1,\n",
    "    'ispId' : '45008',\n",
    "    'testNetworkType' : 'speed',\n",
    "    'userInfo1' : '서울특별시-금천구-가산동',\n",
    "    'userInfo2' : '행-용택-1',\n",
    "    'downloadBandwidth' : None,\n",
    "    'uploadBandwidth' : 6,\n",
    "    'latitude' : 37.47653566,\n",
    "    'longitude' : 126.8913176,\n",
    "    \n",
    "}\n",
    "jsonData = json.dumps(tmpData)\n",
    "r = requests.post(\"http://localhost:8000/monitor/json/\", data=jsonData)\n",
    "r.status_code"
   ]
  },
  {
   "cell_type": "code",
   "execution_count": 29,
   "id": "350017b6",
   "metadata": {},
   "outputs": [
    {
     "data": {
      "text/plain": [
       "{'meta': {'total_count': 2},\n",
       " 'documents': [{'region_type': 'B',\n",
       "   'code': '4824012400',\n",
       "   'address_name': '경상남도 사천시 노룡동',\n",
       "   'region_1depth_name': '경상남도',\n",
       "   'region_2depth_name': '사천시',\n",
       "   'region_3depth_name': '노룡동',\n",
       "   'region_4depth_name': '',\n",
       "   'x': 296184.5342265043,\n",
       "   'y': 165683.29710986698},\n",
       "  {'region_type': 'H',\n",
       "   'code': '4824059500',\n",
       "   'address_name': '경상남도 사천시 남양동',\n",
       "   'region_1depth_name': '경상남도',\n",
       "   'region_2depth_name': '사천시',\n",
       "   'region_3depth_name': '남양동',\n",
       "   'region_4depth_name': '',\n",
       "   'x': 297008.1130364056,\n",
       "   'y': 164008.47612447804}]}"
      ]
     },
     "execution_count": 29,
     "metadata": {},
     "output_type": "execute_result"
    }
   ],
   "source": [
    "# 해당 위치(위도,경도)에 대한 주소 및 행정동을 조회한다.\n",
    "from monitor.geo import KakaoLocalAPI\n",
    "# REST API 키\n",
    "rest_api_key = \"9daef46439c87ea1a53391feb26ebb8b\"\n",
    "\n",
    "kakao = KakaoLocalAPI(rest_api_key)\n",
    "\n",
    "## Set params\n",
    "x = 128.06219445\n",
    "y = 34.9873889\n",
    "\n",
    "input_coord = \"WGS84\" # WGS84, WCONGNAMUL, CONGNAMUL, WTM, TM\n",
    "output_coord = \"TM\" # WGS84, WCONGNAMUL, CONGNAMUL, WTM, TM\n",
    "\n",
    "## Request\n",
    "result = kakao.geo_coord2regioncode(x,y, input_coord, output_coord)\n",
    "# result['documents'][0]['region_3depth_name']\n",
    "result"
   ]
  }
 ],
 "metadata": {
  "interpreter": {
   "hash": "2db524e06e9f5f4ffedc911c917cb75e12dbc923643829bf417064a77eb14d37"
  },
  "kernelspec": {
   "display_name": "Django Shell-Plus",
   "language": "python",
   "name": "django_extensions"
  },
  "language_info": {
   "codemirror_mode": {
    "name": "ipython",
    "version": 3
   },
   "file_extension": ".py",
   "mimetype": "text/x-python",
   "name": "python",
   "nbconvert_exporter": "python",
   "pygments_lexer": "ipython3",
   "version": "3.8.12"
  }
 },
 "nbformat": 4,
 "nbformat_minor": 5
}
