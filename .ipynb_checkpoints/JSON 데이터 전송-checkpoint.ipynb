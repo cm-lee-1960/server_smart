{
 "cells": [
  {
   "cell_type": "code",
   "execution_count": 27,
   "id": "abfb571b",
   "metadata": {},
   "outputs": [
    {
     "data": {
      "text/plain": [
       "200"
      ]
     },
     "execution_count": 27,
     "metadata": {},
     "output_type": "execute_result"
    }
   ],
   "source": [
    "import requests, json\n",
    "##### 다운로드 ######\n",
    "tmpData = {\n",
    "    'dataType' : 'call',\n",
    "    'phone_no' : 1044700193,\n",
    "    'meastime' : 202201172315000,\n",
    "    'networkId' : '5G',\n",
    "    'groupId' : '16357242412367e98748b7c84601a',\n",
    "    'currentCount' : 8,\n",
    "    'ispId' : '45008',\n",
    "    'userInfo1' : '서울특별시-금천구-가산동',\n",
    "    'userInfo2' : '행-용택-1',\n",
    "    'downloadBandwidth' : 20.3,\n",
    "    'uploadBandwidth' : None,\n",
    "    'latitude' : 37.81110091,\n",
    "    'longitude' : 127.7659445,\n",
    "\n",
    "}\n",
    "jsonData = json.dumps(tmpData)\n",
    "r = requests.post(\"http://localhost:8000/monitor/json/\", data=jsonData)\n",
    "r.status_code"
   ]
  },
  {
   "cell_type": "code",
   "execution_count": 80,
   "id": "5a2d9b8f",
   "metadata": {},
   "outputs": [
    {
     "data": {
      "text/plain": [
       "500"
      ]
     },
     "execution_count": 80,
     "metadata": {},
     "output_type": "execute_result"
    }
   ],
   "source": [
    "import requests, json\n",
    "##### 업로드 데이터 ######\n",
    "tmpData = {\n",
    "    'dataType' : 'call',\n",
    "    'phone_no' : 1038130001,\n",
    "    'meastime' : 202201172315000,\n",
    "    'networkId' : 'LTE',\n",
    "    'groupId' : '16357242412367e98748b7c84601a',\n",
    "    'currentCount' : 10,\n",
    "    'ispId' : '45008',\n",
    "    'userInfo1' : '서울특별시-금천구-가산동',\n",
    "    'userInfo2' : '행-용택-1',\n",
    "    'downloadBandwidth' : None,\n",
    "    'uploadBandwidth' : 20.3,\n",
    "    'latitude' : 37.8121186646954,\n",
    "    'longitude' : 127.766183747337,\n",
    "    'before_lat' : 37.8121186646954,\n",
    "    'before_lon' : 127.766183747337,\n",
    "    \n",
    "}\n",
    "jsonData = json.dumps(tmpData)\n",
    "r = requests.post(\"http://localhost:8000/monitor/json/\", data=jsonData)\n",
    "r.status_code"
   ]
  },
  {
   "cell_type": "code",
   "execution_count": 1,
   "id": "368fe203",
   "metadata": {},
   "outputs": [
    {
     "data": {
      "text/plain": [
       "<QuerySet [<Phone: DL/1044700193/14.3/0.0/10>, <Phone: DL/1044700193/10.3/0.0/5>, <Phone: UP/1038130001/0.0/0.0/3>, <Phone: DL/1044700193/17.8/0.0/4>]>"
      ]
     },
     "execution_count": 1,
     "metadata": {},
     "output_type": "execute_result"
    }
   ],
   "source": [
    "import os\n",
    "os.environ[\"DJANGO_ALLOW_ASYNC_UNSAFE\"] = \"true\"\n",
    "Phone.objects.all()"
   ]
  },
  {
   "cell_type": "code",
   "execution_count": 2,
   "id": "2df84bb4",
   "metadata": {},
   "outputs": [
    {
     "data": {
      "text/plain": [
       "<QuerySet [<Phone: DL/1044700193/14.3/0.0/10>]>"
      ]
     },
     "execution_count": 2,
     "metadata": {},
     "output_type": "execute_result"
    }
   ],
   "source": [
    "g = PhoneGroup.objects.all()[0]\n",
    "g.phone_set.all()"
   ]
  },
  {
   "cell_type": "code",
   "execution_count": 3,
   "id": "a309d717",
   "metadata": {},
   "outputs": [
    {
     "data": {
      "text/plain": [
       "<PhoneGroup: PhoneGroup object (2)>"
      ]
     },
     "execution_count": 3,
     "metadata": {},
     "output_type": "execute_result"
    }
   ],
   "source": [
    "p = Phone.objects.all()[1]\n",
    "str(p)\n",
    "p.phoneGroup"
   ]
  },
  {
   "cell_type": "code",
   "execution_count": 7,
   "id": "11668981",
   "metadata": {},
   "outputs": [
    {
     "name": "stdout",
     "output_type": "stream",
     "text": [
      "0 콜단위 데이터1044700193/5G/202201172315000/3/10.3/None/\n",
      "1 콜단위 데이터1044700193/5G/202201172315000/3/10.3/None/\n",
      "2 콜단위 데이터1044700193/5G/202201172315000/3/10.3/None/\n",
      "3 콜단위 데이터1044700193/5G/202201172315000/3/10.3/None/\n",
      "4 콜단위 데이터1044700193/5G/202201172315000/3/10.3/None/\n",
      "51.5 0 5\n"
     ]
    }
   ],
   "source": [
    "dl_sum, up_sum, total_count = 0, 0, 0\n",
    "for index, mdata in enumerate(p.measurecalldata_set.all()):\n",
    "    print(index, \"콜단위 데이터\" + str(mdata))\n",
    "    dl_sum += mdata.downloadBandwidth if mdata.downloadBandwidth else 0\n",
    "    up_sum += mdata.uploadBandwidth if mdata.uploadBandwidth else 0\n",
    "    total_count += 1\n",
    "print(dl_sum, up_sum, total_count)\n",
    "# if self.phone_type == 'DL':\n",
    "#     self.avg_downloadBandwidth = dl_sum / total_count\n",
    "# elif self.phone_type == 'UP':\n",
    "#     self.uploadBandwidth = up_sum / total_count"
   ]
  },
  {
   "cell_type": "code",
   "execution_count": 12,
   "id": "e8d3c18b",
   "metadata": {},
   "outputs": [],
   "source": [
    "m = p.measurecalldata_set.all()"
   ]
  },
  {
   "cell_type": "code",
   "execution_count": 15,
   "id": "e837616c",
   "metadata": {},
   "outputs": [
    {
     "data": {
      "text/plain": [
       "[<MeasureCallData: 1044700193/5G/202201172315000/3/10.3/None/>,\n",
       " <MeasureCallData: 1044700193/5G/202201172315000/3/10.3/None/>]"
      ]
     },
     "execution_count": 15,
     "metadata": {},
     "output_type": "execute_result"
    }
   ],
   "source": [
    "m[4:2:-1]"
   ]
  },
  {
   "cell_type": "code",
   "execution_count": 31,
   "id": "1a0c073b",
   "metadata": {},
   "outputs": [
    {
     "name": "stdout",
     "output_type": "stream",
     "text": [
      "All the elements are Equal\n"
     ]
    }
   ],
   "source": [
    "l = [3,3,3]\n",
    "result = all(element == l[0] for element in l)\n",
    "if (result):\n",
    "    print(\"All the elements are Equal\")\n",
    "else:\n",
    "    print(\"All Elements are not equal\")"
   ]
  },
  {
   "cell_type": "code",
   "execution_count": 19,
   "id": "2d65f3a3",
   "metadata": {},
   "outputs": [
    {
     "data": {
      "text/plain": [
       "4"
      ]
     },
     "execution_count": 19,
     "metadata": {},
     "output_type": "execute_result"
    }
   ],
   "source": [
    "#### 데이터 초기화 #####\n",
    "PhoneGroup.objects.all().update(active=False)\n",
    "Phone.objects.all().update(active=False)"
   ]
  },
  {
   "cell_type": "code",
   "execution_count": 91,
   "id": "efa34ec0",
   "metadata": {},
   "outputs": [
    {
     "name": "stdout",
     "output_type": "stream",
     "text": [
      "/Users/jonghyunkim/code/smartproject/monitor/cron.log\n"
     ]
    }
   ],
   "source": [
    "from django.conf import settings\n",
    "print(str(settings.BASE_DIR) + '/monitor/cron.log')"
   ]
  },
  {
   "cell_type": "code",
   "execution_count": 8,
   "id": "9b95327f",
   "metadata": {},
   "outputs": [],
   "source": [
    "from haversine import haversine"
   ]
  },
  {
   "cell_type": "code",
   "execution_count": 10,
   "id": "17a2fa6c",
   "metadata": {},
   "outputs": [
    {
     "data": {
      "text/plain": [
       "43.388376940999464"
      ]
     },
     "execution_count": 10,
     "metadata": {},
     "output_type": "execute_result"
    }
   ],
   "source": [
    "before_pos = (37.81247926, 127.7663724)\n",
    "current_pos = (37.81211866, 127.7661837)\n",
    "haversine(before_pos, current_pos) * 1000"
   ]
  },
  {
   "cell_type": "code",
   "execution_count": null,
   "id": "83a98dd4",
   "metadata": {},
   "outputs": [],
   "source": []
  }
 ],
 "metadata": {
  "kernelspec": {
   "display_name": "Django Shell-Plus",
   "language": "python",
   "name": "django_extensions"
  },
  "language_info": {
   "codemirror_mode": {
    "name": "ipython",
    "version": 3
   },
   "file_extension": ".py",
   "mimetype": "text/x-python",
   "name": "python",
   "nbconvert_exporter": "python",
   "pygments_lexer": "ipython3",
   "version": "3.8.12"
  }
 },
 "nbformat": 4,
 "nbformat_minor": 5
}
