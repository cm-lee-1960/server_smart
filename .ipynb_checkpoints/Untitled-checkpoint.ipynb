{
 "cells": [
  {
   "cell_type": "code",
   "execution_count": 1,
   "id": "14a34e7d",
   "metadata": {},
   "outputs": [],
   "source": [
    "from monitor.models import *"
   ]
  },
  {
   "cell_type": "code",
   "execution_count": 12,
   "id": "08912d80",
   "metadata": {},
   "outputs": [],
   "source": [
    "qs = PhoneGroup.objects.get(id=1)"
   ]
  },
  {
   "cell_type": "code",
   "execution_count": 18,
   "id": "f8c1ae29",
   "metadata": {},
   "outputs": [],
   "source": [
    "qs2 = qs.phone_set.all()"
   ]
  },
  {
   "cell_type": "code",
   "execution_count": 19,
   "id": "d67f6bf2",
   "metadata": {},
   "outputs": [
    {
     "data": {
      "text/plain": [
       "<QuerySet [<Phone: 목포북항-도초도/L/1020959847/1>, <Phone: 목포북항-도초도/3/1020399018/1>]>"
      ]
     },
     "execution_count": 19,
     "metadata": {},
     "output_type": "execute_result"
    }
   ],
   "source": []
  },
  {
   "cell_type": "code",
   "execution_count": null,
   "id": "eade54b9",
   "metadata": {},
   "outputs": [],
   "source": []
  }
 ],
 "metadata": {
  "kernelspec": {
   "display_name": "Django Shell-Plus",
   "language": "python",
   "name": "django_extensions"
  },
  "language_info": {
   "codemirror_mode": {
    "name": "ipython",
    "version": 3
   },
   "file_extension": ".py",
   "mimetype": "text/x-python",
   "name": "python",
   "nbconvert_exporter": "python",
   "pygments_lexer": "ipython3",
   "version": "3.9.7"
  }
 },
 "nbformat": 4,
 "nbformat_minor": 5
}
