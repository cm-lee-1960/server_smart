{
 "cells": [
  {
   "cell_type": "code",
   "execution_count": 1,
   "id": "eab03cd0",
   "metadata": {},
   "outputs": [],
   "source": [
    "from monitor.models import PhoneGroup"
   ]
  },
  {
   "cell_type": "code",
   "execution_count": 2,
   "id": "08b9a984",
   "metadata": {},
   "outputs": [],
   "source": [
    "p = PhoneGroup.objects.all()"
   ]
  },
  {
   "cell_type": "code",
   "execution_count": 3,
   "id": "4664806f",
   "metadata": {},
   "outputs": [],
   "source": [
    "from monitor.models import Phone"
   ]
  },
  {
   "cell_type": "code",
   "execution_count": 4,
   "id": "7d414da8",
   "metadata": {},
   "outputs": [],
   "source": [
    "data = {\n",
    "    'dataType' : 'call',\n",
    "    'phone_no' : 1038130003,\n",
    "    'meastime' : 2022012192315000,\n",
    "    'networkId' : '5G',\n",
    "    'groupId' : '16357242412367e98748b7c84601a',\n",
    "#     'groupId' : '16357248333537e98748b7c84601a',\n",
    "    'currentCount' : 13,\n",
    "    'ispId' : '45008',\n",
    "    'testNetworkType' : 'speed',\n",
    "    'userInfo1' : '서울특별시-금천구-가산동',\n",
    "    'userInfo2' : '행-용택-1',\n",
    "    'downloadBandwidth' : None,\n",
    "    'uploadBandwidth' : 6,\n",
    "    'latitude' : 37.47653566,\n",
    "    'longitude' : 126.8913176,\n",
    "    \n",
    "}"
   ]
  },
  {
   "cell_type": "code",
   "execution_count": 5,
   "id": "3ea6c9c3",
   "metadata": {},
   "outputs": [],
   "source": [
    "measdate = str(data['meastime'])[:8]"
   ]
  },
  {
   "cell_type": "code",
   "execution_count": 7,
   "id": "ea4de8be",
   "metadata": {},
   "outputs": [],
   "source": [
    "qs = PhoneGroup.objects.filter(measdate=measdate, userInfo1=data['userInfo1'], ispId=data['ispId'], active=True)"
   ]
  },
  {
   "cell_type": "code",
   "execution_count": 11,
   "id": "38e0573d",
   "metadata": {},
   "outputs": [
    {
     "data": {
      "text/plain": [
       "<PhoneGroup: 20220121>"
      ]
     },
     "execution_count": 11,
     "metadata": {},
     "output_type": "execute_result"
    }
   ],
   "source": []
  }
 ],
 "metadata": {
  "kernelspec": {
   "display_name": "Django Shell-Plus",
   "language": "python",
   "name": "django_extensions"
  },
  "language_info": {
   "codemirror_mode": {
    "name": "ipython",
    "version": 3
   },
   "file_extension": ".py",
   "mimetype": "text/x-python",
   "name": "python",
   "nbconvert_exporter": "python",
   "pygments_lexer": "ipython3",
   "version": "3.9.7"
  }
 },
 "nbformat": 4,
 "nbformat_minor": 5
}
