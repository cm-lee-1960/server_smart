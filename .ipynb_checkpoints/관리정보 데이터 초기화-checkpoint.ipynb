{
 "cells": [
  {
   "cell_type": "code",
   "execution_count": null,
   "id": "5514e838",
   "metadata": {},
   "outputs": [],
   "source": [
    "# 관리정보 데이터 초기화\n",
    "\n",
    "# 데이터베이스 선택\n",
    "use smart;\n",
    "\n",
    "#센터정보\n",
    "INSERT INTO management_center (id,centerName,channelId,permissionLevel,active) VALUES (1,'운영본부','-736183270',0,1);\n",
    "\n",
    "# 금일 측정보\n",
    "INSERT INTO management_measureingteam (id,measdate,message,center_id) VALUES (1,'2021-11-01','ㅇ 금일측정조\\r\\n- 5G/LTE 품질 3개조\\r\\n- LTE/3G 취약지역 품질 1개조\\r\\n- WiFi 품질 1개조',1);\n",
    "\n",
    "# 모폴로지\n",
    "INSERT INTO management_morphology (id,morphology,manage,center_id) VALUES (1,'행정동',1,1);\n",
    "INSERT INTO management_morphology (id,morphology,manage,center_id) VALUES (2,'테마',1,1);\n",
    "INSERT INTO management_morphology (id,morphology,manage,center_id) VALUES (3,'인빌딩',1,1);\n",
    "INSERT INTO management_morphology (id,morphology,manage,center_id) VALUES (4,'커버리지',0,1);\n",
    "INSERT INTO management_morphology (id,morphology,manage,center_id) VALUES (5,'취약지역',1,1);\n",
    "\n",
    "# 모폴로지 맵\n",
    "INSERT INTO management_morphologymap (id,words,wordsCond,manage,center_id,morphology_id) VALUES (1,'행-','시작단어',1,1,1);\n",
    "INSERT INTO management_morphologymap (id,words,wordsCond,manage,center_id,morphology_id) VALUES (2,'테-','시작단어',1,1,2);\n",
    "INSERT INTO management_morphologymap (id,words,wordsCond,manage,center_id,morphology_id) VALUES (3,'인-','시작단어',1,1,3);\n",
    "INSERT INTO management_morphologymap (id,words,wordsCond,manage,center_id,morphology_id) VALUES (4,'커-','시작단어',0,1,4);\n",
    "INSERT INTO management_morphologymap (id,words,wordsCond,manage,center_id,morphology_id) VALUES (5,'커버리지','포함단어',0,1,4);\n",
    "INSERT INTO management_morphologymap (id,words,wordsCond,manage,center_id,morphology_id) VALUES (6,'W-','시작단어',1,1,3);\n",
    "\n",
    "# 전송실패 기준\n",
    "INSERT INTO management_sendfailure (id,areaInd,networkId,dataType,bandwidth, center_id) VALUES (1,'NORM','5G','DL',12,1);\n",
    "INSERT INTO management_sendfailure (id,areaInd,networkId,dataType,bandwidth, center_id) VALUES (2,'NORM','5G','UL',2,1);\n",
    "INSERT INTO management_sendfailure (id,areaInd,networkId,dataType,bandwidth, center_id) VALUES (3,'NORM','LTE','DL',6,1);\n",
    "INSERT INTO management_sendfailure (id,areaInd,networkId,dataType,bandwidth, center_id) VALUES (4,'NORM','LTE','UL',1,1);\n",
    "INSERT INTO management_sendfailure (id,areaInd,networkId,dataType,bandwidth, center_id) VALUES (5,'NORM','3G','DL',0.25,1);\n",
    "INSERT INTO management_sendfailure (id,areaInd,networkId,dataType,bandwidth, center_id) VALUES (6,'NORM','3G','UL',0.125,1);\n",
    "\n",
    "# 속도저하 기준\n",
    "INSERT INTO management_lowthroughput (id,areaInd,networkId,dataType,bandwidth, center_id) VALUES (1,'NORM','5G','DL',12,1);\n",
    "INSERT INTO management_lowthroughput (id,areaInd,networkId,dataType,bandwidth, center_id) VALUES (2,'NORM','5G','UL',2,1);\n",
    "INSERT INTO management_lowthroughput (id,areaInd,networkId,dataType,bandwidth, center_id) VALUES (3,'NORM','LTE','DL',6,1);\n",
    "INSERT INTO management_lowthroughput (id,areaInd,networkId,dataType,bandwidth, center_id) VALUES (4,'NORM','LTE','UL',1,1);\n",
    "INSERT INTO management_lowthroughput (id,areaInd,networkId,dataType,bandwidth, center_id) VALUES (5,'NORM','3G','DL',0.25,1);\n",
    "INSERT INTO management_lowthroughput (id,areaInd,networkId,dataType,bandwidth, center_id) VALUES (6,'NORM','3G','UL',0.125,1);\n",
    "\n",
    "INSERT INTO management_reportcycle (id,reportCycle,center_id) VALUES (1,'3, 10, 27, 37, 57',1);"
   ]
  },
  {
   "cell_type": "code",
   "execution_count": null,
   "id": "2349aaed",
   "metadata": {},
   "outputs": [],
   "source": [
    "# 행정도 경계구역 데이터 - 테스트\n",
    "from ipyleaflet import *\n",
    "latitude = '35.16791949'\n",
    "longitude = '128.05307994'\n",
    "center = [latitude, longitude]\n",
    "zoom = 15\n",
    "m = folium.Map(location=[latitude, longitude], zoom_start=15)\n",
    "folium.Marker(\n",
    "    location=[latitude, longitude],\n",
    "    icon=folium.Icon(color=\"red\", icon=\"star\"),\n",
    "    icon_size=(10,10),\n",
    ").add_to(m)\n",
    "\n",
    "with open('./HangJeongDong_ver20220309.geojson', mode='rt', encoding='utf-8') as f:\n",
    "    geo = json.loads(f.read()) # json 파일 로드\n",
    "    f.close()\n",
    "\n",
    "folium.GeoJson(geo, name='seoul_municipalities').add_to(m)\n",
    "\n",
    "m"
   ]
  },
  {
   "cell_type": "code",
   "execution_count": null,
   "id": "e62293f0",
   "metadata": {},
   "outputs": [],
   "source": [
    "# 행정동 경계구역 데이터 업로드(Upload)\n",
    "# for p in geo['features'][:3]:\n",
    "for p in geo['features']:\n",
    "    print(p['properties']['adm_nm'])\n",
    "    print(p)\n",
    "    AddressRegion.objects.create(addressDetail=p['properties']['adm_nm'], json_data=p)"
   ]
  }
 ],
 "metadata": {
  "kernelspec": {
   "display_name": "Django Shell-Plus",
   "language": "python",
   "name": "django_extensions"
  },
  "language_info": {
   "codemirror_mode": {
    "name": "ipython",
    "version": 3
   },
   "file_extension": ".py",
   "mimetype": "text/x-python",
   "name": "python",
   "nbconvert_exporter": "python",
   "pygments_lexer": "ipython3",
   "version": "3.8.12"
  }
 },
 "nbformat": 4,
 "nbformat_minor": 5
}
