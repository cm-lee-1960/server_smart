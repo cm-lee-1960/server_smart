{
 "cells": [
  {
   "cell_type": "code",
   "execution_count": 9,
   "id": "89b7ca02",
   "metadata": {},
   "outputs": [
    {
     "name": "stdout",
     "output_type": "stream",
     "text": [
      "Collecting mysql-connector-python\n",
      "  Using cached mysql_connector_python-8.0.28-py2.py3-none-any.whl (342 kB)\n",
      "Collecting protobuf>=3.0.0\n",
      "  Using cached protobuf-3.19.4-py2.py3-none-any.whl (162 kB)\n",
      "Installing collected packages: protobuf, mysql-connector-python\n",
      "Successfully installed mysql-connector-python-8.0.28 protobuf-3.19.4\n"
     ]
    }
   ],
   "source": [
    "!pip install mysql-connector-python"
   ]
  },
  {
   "cell_type": "code",
   "execution_count": 26,
   "id": "6c6b0258",
   "metadata": {},
   "outputs": [
    {
     "name": "stdout",
     "output_type": "stream",
     "text": [
      "###1번째 처리: 성공\n",
      "###2번째 처리: 성공\n",
      "###3번째 처리: 성공\n",
      "###4번째 처리: 성공\n",
      "###5번째 처리: 성공\n",
      "###6번째 처리: 성공\n",
      "###7번째 처리: 성공\n",
      "###8번째 처리: 성공\n",
      "###9번째 처리: 성공\n",
      "###10번째 처리: 성공\n"
     ]
    }
   ],
   "source": [
    "import mysql.connector\n",
    "import requests, json\n",
    "\n",
    "# 데이터베이스 컨넥션을 생성한다.\n",
    "mydb = mysql.connector.connect(\n",
    "    host=\"127.0.0.1\",\n",
    "    user=\"smartnqi\",\n",
    "    passwd=\"nwai1234!\",\n",
    "    database=\"smart\"\n",
    ")\n",
    "\n",
    "# 커서를 생성한다.\n",
    "cur = mydb.cursor()\n",
    "\n",
    "# 데이터를 조회할 쿼리문을 작성한다. \n",
    "sql = '''\n",
    "    select \n",
    "        'call' as dataType,\n",
    "        phone_no,\n",
    "        meastime,\n",
    "        networkId,\n",
    "        groupId,\n",
    "        currentTime,\n",
    "        timeline,\n",
    "        cellId,\n",
    "        currentCount,\n",
    "        ispId,\n",
    "        testNetworkType,\n",
    "        userInfo1,\n",
    "        userInfo2,\n",
    "        siDo,\n",
    "        guGun,\n",
    "        addressDetail,\n",
    "        udpJitter,\n",
    "        downloadBandwidth,\n",
    "        uploadBandwidth,\n",
    "        sinr,\n",
    "        isWifi,\n",
    "        latitude,\n",
    "        longitude,\n",
    "        bandType,\n",
    "        p_dl_earfcn,\n",
    "        p_pci,\n",
    "        p_rsrp,\n",
    "        NR_EARFCN,\n",
    "        NR_PCI,\n",
    "        NR_RSRP,\n",
    "        NR_SINR\n",
    "        from tb_ndm_data_measure  \n",
    "        where phone_no = 1072010298 and \n",
    "              meastime between 20211101000000000 and 20211101235959999\n",
    "    '''\n",
    "\n",
    "# 쿼리문을 실행한다.\n",
    "cur.execute(sql)\n",
    "row_headers=[x[0] for x in cur.description]\n",
    "res = cur.fetchall()\n",
    "\n",
    "# 데이터를 가져와서 JSON 데이터를 생성한다.\n",
    "for idx, row in enumerate(res[:10]):\n",
    "    tmpData = dict(zip(row_headers,row))\n",
    "    jsonData = json.dumps(tmpData)\n",
    "    r = requests.post(\"http://localhost:8000/monitor/json/\", data=jsonData)\n",
    "    # 전송실패 시 오류값을 출력한다.\n",
    "    if r.status_code == 200:\n",
    "        print(f\"###{idx+1}번째 처리: 성공\")\n",
    "    else:\n",
    "        print(f\"###{idx+1}번째 처리: 오류\\n\", r.text)"
   ]
  },
  {
   "cell_type": "code",
   "execution_count": null,
   "id": "bef02a4f",
   "metadata": {
    "collapsed": true
   },
   "outputs": [],
   "source": []
  }
 ],
 "metadata": {
  "kernelspec": {
   "display_name": "Python 3 (ipykernel)",
   "language": "python",
   "name": "python3"
  },
  "language_info": {
   "codemirror_mode": {
    "name": "ipython",
    "version": 3
   },
   "file_extension": ".py",
   "mimetype": "text/x-python",
   "name": "python",
   "nbconvert_exporter": "python",
   "pygments_lexer": "ipython3",
   "version": "3.8.12"
  }
 },
 "nbformat": 4,
 "nbformat_minor": 5
}
