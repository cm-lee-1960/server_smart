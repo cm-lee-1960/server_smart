{
 "cells": [
  {
   "cell_type": "code",
   "execution_count": 65,
   "id": "abfb571b",
   "metadata": {},
   "outputs": [
    {
     "data": {
      "text/plain": [
       "200"
      ]
     },
     "execution_count": 65,
     "metadata": {},
     "output_type": "execute_result"
    }
   ],
   "source": [
    "import requests, json\n",
    "tmpData = {\n",
    "    'phone_no' : 1044700193,\n",
    "    'neworkid' : '5G',\n",
    "    'meastime' : 202201172315000,\n",
    "    'ispId' : '45008',\n",
    "    'currentCount' : 3,\n",
    "    'userInfo2' : '행-용택-1',\n",
    "    'downloadBandwidth' : 20.3,\n",
    "    'uploadBandwidth' : 15.1,\n",
    "}\n",
    "jsonData = json.dumps(tmpData)\n",
    "r = requests.post(\"http://localhost:8000/monitor/json/\", data=jsonData)\n",
    "r.status_code"
   ]
  },
  {
   "cell_type": "code",
   "execution_count": null,
   "id": "5a2d9b8f",
   "metadata": {},
   "outputs": [],
   "source": []
  },
  {
   "cell_type": "code",
   "execution_count": null,
   "id": "368fe203",
   "metadata": {},
   "outputs": [],
   "source": []
  }
 ],
 "metadata": {
  "kernelspec": {
   "display_name": "Django Shell-Plus",
   "language": "python",
   "name": "django_extensions"
  },
  "language_info": {
   "codemirror_mode": {
    "name": "ipython",
    "version": 3
   },
   "file_extension": ".py",
   "mimetype": "text/x-python",
   "name": "python",
   "nbconvert_exporter": "python",
   "pygments_lexer": "ipython3",
   "version": "3.8.12"
  }
 },
 "nbformat": 4,
 "nbformat_minor": 5
}
