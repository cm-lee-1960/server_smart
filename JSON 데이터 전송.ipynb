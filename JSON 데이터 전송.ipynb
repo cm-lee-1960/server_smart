{
 "cells": [
  {
   "cell_type": "code",
   "execution_count": 85,
   "id": "abfb571b",
   "metadata": {},
   "outputs": [
    {
     "data": {
      "text/plain": [
       "200"
      ]
     },
     "execution_count": 85,
     "metadata": {},
     "output_type": "execute_result"
    }
   ],
   "source": [
    "import requests, json\n",
    "##### 다운로드 ######\n",
    "tmpData = {\n",
    "    'dataType' : 'call',\n",
    "    'phone_no' : 1044700193,\n",
    "    'meastime' : 202201172315000,\n",
    "    'networkId' : '5G',\n",
    "    'groupId' : '16357242412367e98748b7c84601a',\n",
    "    'currentCount' : 3,\n",
    "    'ispId' : '45008',\n",
    "    'userInfo1' : '서울특별시-금천구-가산동',\n",
    "    'userInfo2' : '행-용택-1',\n",
    "    'downloadBandwidth' : 20.3,\n",
    "    'uploadBandwidth' : None,\n",
    "    'latitude' : 37.8121186646954,\n",
    "    'longitude' : 127.766183747337,\n",
    "    'before_lat' : 37.8121186646954,\n",
    "    'before_lon' : 127.766183747337,\n",
    "}\n",
    "jsonData = json.dumps(tmpData)\n",
    "r = requests.post(\"http://localhost:8000/monitor/json/\", data=jsonData)\n",
    "r.status_code"
   ]
  },
  {
   "cell_type": "code",
   "execution_count": 80,
   "id": "5a2d9b8f",
   "metadata": {},
   "outputs": [
    {
     "data": {
      "text/plain": [
       "500"
      ]
     },
     "execution_count": 80,
     "metadata": {},
     "output_type": "execute_result"
    }
   ],
   "source": [
    "import requests, json\n",
    "##### 업로드 데이터 ######\n",
    "tmpData = {\n",
    "    'dataType' : 'call',\n",
    "    'phone_no' : 1038130001,\n",
    "    'meastime' : 202201172315000,\n",
    "    'networkId' : 'LTE',\n",
    "    'groupId' : '16357242412367e98748b7c84601a',\n",
    "    'currentCount' : 10,\n",
    "    'ispId' : '45008',\n",
    "    'userInfo1' : '서울특별시-금천구-가산동',\n",
    "    'userInfo2' : '행-용택-1',\n",
    "    'downloadBandwidth' : None,\n",
    "    'uploadBandwidth' : 20.3,\n",
    "    'latitude' : 37.8121186646954,\n",
    "    'longitude' : 127.766183747337,\n",
    "    'before_lat' : 37.8121186646954,\n",
    "    'before_lon' : 127.766183747337,\n",
    "    \n",
    "}\n",
    "jsonData = json.dumps(tmpData)\n",
    "r = requests.post(\"http://localhost:8000/monitor/json/\", data=jsonData)\n",
    "r.status_code"
   ]
  },
  {
   "cell_type": "code",
   "execution_count": 1,
   "id": "368fe203",
   "metadata": {},
   "outputs": [
    {
     "data": {
      "text/plain": [
       "<QuerySet [<Phone: DL/1044700193/20.3/0.0/1>, <Phone: UP/1038130193/0.0/20.3/5>, <Phone: UP/1038130001/0.0/20.3/6>]>"
      ]
     },
     "execution_count": 1,
     "metadata": {},
     "output_type": "execute_result"
    }
   ],
   "source": [
    "import os\n",
    "os.environ[\"DJANGO_ALLOW_ASYNC_UNSAFE\"] = \"true\"\n",
    "Phone.objects.all()"
   ]
  },
  {
   "cell_type": "code",
   "execution_count": 12,
   "id": "d05eab35",
   "metadata": {},
   "outputs": [
    {
     "data": {
      "text/plain": [
       "<QuerySet [<Phone: DL/1044700193/20.3/0.0/1>, <Phone: UP/1038130193/0.0/20.3/5>, <Phone: UP/1038130001/0.0/20.3/6>]>"
      ]
     },
     "execution_count": 12,
     "metadata": {},
     "output_type": "execute_result"
    }
   ],
   "source": [
    "g = PhoneGroup.objects.all()[0]\n",
    "g.phone_set.all()"
   ]
  },
  {
   "cell_type": "code",
   "execution_count": 17,
   "id": "1efda200",
   "metadata": {},
   "outputs": [
    {
     "data": {
      "text/plain": [
       "<PhoneGroup: PhoneGroup object (1)>"
      ]
     },
     "execution_count": 17,
     "metadata": {},
     "output_type": "execute_result"
    }
   ],
   "source": [
    "p = Phone.objects.all()[1]\n",
    "str(p)\n",
    "p.phoneGroup"
   ]
  },
  {
   "cell_type": "code",
   "execution_count": 23,
   "id": "006a3386",
   "metadata": {},
   "outputs": [
    {
     "name": "stdout",
     "output_type": "stream",
     "text": [
      "콜단위 데이터1038130193/5G/202201172315000/1/None/20.3/\n",
      "콜단위 데이터1038130193/5G/202201172315000/1/None/20.3/\n",
      "콜단위 데이터1038130193/5G/202201172315000/1/None/20.3/\n",
      "0 60.900000000000006 3\n"
     ]
    }
   ],
   "source": [
    "dl_sum, up_sum, total_count = 0, 0, 0\n",
    "for mdata in p.measurecalldata_set.all():\n",
    "    print(\"콜단위 데이터\" + str(mcdata))\n",
    "    dl_sum += mdata.downloadBandwidth if mdata.downloadBandwidth else 0\n",
    "    up_sum += mdata.uploadBandwidth if mdata.uploadBandwidth else 0\n",
    "    total_count += 1\n",
    "print(dl_sum, up_sum, total_count)\n",
    "# if self.phone_type == 'DL':\n",
    "#     self.avg_downloadBandwidth = dl_sum / total_count\n",
    "# elif self.phone_type == 'UP':\n",
    "#     self.uploadBandwidth = up_sum / total_count"
   ]
  },
  {
   "cell_type": "code",
   "execution_count": 7,
   "id": "67f3e345",
   "metadata": {},
   "outputs": [],
   "source": [
    "m = p.measurecalldata_set.all()"
   ]
  },
  {
   "cell_type": "code",
   "execution_count": 8,
   "id": "7dcbfda5",
   "metadata": {},
   "outputs": [
    {
     "data": {
      "text/plain": [
       "<QuerySet [<MeasureCallData: 1038130193/5G/202201172315000/1/None/20.3/>, <MeasureCallData: 1038130193/5G/202201172315000/2/None/20.3/>, <MeasureCallData: 1038130193/5G/202201172315000/2/None/20.3/>, <MeasureCallData: 1038130193/5G/202201172315000/4/None/20.3/>, <MeasureCallData: 1038130193/5G/202201172315000/5/None/20.3/>]>"
      ]
     },
     "execution_count": 8,
     "metadata": {},
     "output_type": "execute_result"
    }
   ],
   "source": [
    "m"
   ]
  },
  {
   "cell_type": "code",
   "execution_count": 31,
   "id": "c3a39749",
   "metadata": {},
   "outputs": [
    {
     "name": "stdout",
     "output_type": "stream",
     "text": [
      "All the elements are Equal\n"
     ]
    }
   ],
   "source": [
    "l = [3,3,3]\n",
    "result = all(element == l[0] for element in l)\n",
    "if (result):\n",
    "    print(\"All the elements are Equal\")\n",
    "else:\n",
    "    print(\"All Elements are not equal\")"
   ]
  },
  {
   "cell_type": "code",
   "execution_count": 81,
   "id": "ccbec9dd",
   "metadata": {},
   "outputs": [
    {
     "data": {
      "text/plain": [
       "2"
      ]
     },
     "execution_count": 81,
     "metadata": {},
     "output_type": "execute_result"
    }
   ],
   "source": [
    "#### 데이터 초기화 #####\n",
    "PhoneGroup.objects.all().update(active=False)\n",
    "# Phone.objects.all().update(active=False)/"
   ]
  },
  {
   "cell_type": "code",
   "execution_count": null,
   "id": "e5c447bc",
   "metadata": {},
   "outputs": [],
   "source": []
  }
 ],
 "metadata": {
  "kernelspec": {
   "display_name": "Django Shell-Plus",
   "language": "python",
   "name": "django_extensions"
  },
  "language_info": {
   "codemirror_mode": {
    "name": "ipython",
    "version": 3
   },
   "file_extension": ".py",
   "mimetype": "text/x-python",
   "name": "python",
   "nbconvert_exporter": "python",
   "pygments_lexer": "ipython3",
   "version": "3.8.12"
  }
 },
 "nbformat": 4,
 "nbformat_minor": 5
}
