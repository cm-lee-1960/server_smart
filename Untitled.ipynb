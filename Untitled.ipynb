{
 "cells": [
  {
   "cell_type": "code",
   "execution_count": 1,
   "id": "14a34e7d",
   "metadata": {},
   "outputs": [],
   "source": [
    "from monitor.models import *"
   ]
  },
  {
   "cell_type": "code",
   "execution_count": 2,
   "id": "08912d80",
   "metadata": {},
   "outputs": [],
   "source": [
    "qs = PhoneGroup.objects.get(id=3,measdate='20210901')"
   ]
  },
  {
   "cell_type": "code",
   "execution_count": 3,
   "id": "caefaaaf",
   "metadata": {},
   "outputs": [
    {
     "data": {
      "text/plain": [
       "<PhoneGroup: 20210901>"
      ]
     },
     "execution_count": 3,
     "metadata": {},
     "output_type": "execute_result"
    }
   ],
   "source": [
    "qs"
   ]
  },
  {
   "cell_type": "code",
   "execution_count": 4,
   "id": "1c8250ba",
   "metadata": {},
   "outputs": [],
   "source": [
    "qs2 = qs.phone_set.all()"
   ]
  },
  {
   "cell_type": "code",
   "execution_count": 5,
   "id": "6b8af5fc",
   "metadata": {},
   "outputs": [
    {
     "data": {
      "text/plain": [
       "2"
      ]
     },
     "execution_count": 5,
     "metadata": {},
     "output_type": "execute_result"
    }
   ],
   "source": [
    "len(qs2)"
   ]
  },
  {
   "cell_type": "code",
   "execution_count": 21,
   "id": "5e2d26f2",
   "metadata": {},
   "outputs": [
    {
     "data": {
      "text/plain": [
       "2"
      ]
     },
     "execution_count": 21,
     "metadata": {},
     "output_type": "execute_result"
    }
   ],
   "source": [
    "qs2.update(active=1)"
   ]
  },
  {
   "cell_type": "code",
   "execution_count": 95,
   "id": "d22eb6fa",
   "metadata": {},
   "outputs": [],
   "source": [
    "t = qs2[0]"
   ]
  },
  {
   "cell_type": "code",
   "execution_count": 96,
   "id": "27b90890",
   "metadata": {},
   "outputs": [
    {
     "data": {
      "text/plain": [
       "2"
      ]
     },
     "execution_count": 96,
     "metadata": {},
     "output_type": "execute_result"
    }
   ],
   "source": [
    "t.id"
   ]
  },
  {
   "cell_type": "code",
   "execution_count": 8,
   "id": "ade99356",
   "metadata": {},
   "outputs": [
    {
     "data": {
      "text/plain": [
       "django.db.models.query.QuerySet"
      ]
     },
     "execution_count": 8,
     "metadata": {},
     "output_type": "execute_result"
    }
   ],
   "source": [
    "type(qs2)"
   ]
  },
  {
   "cell_type": "code",
   "execution_count": 76,
   "id": "009ce3e4",
   "metadata": {},
   "outputs": [
    {
     "data": {
      "text/plain": [
       "<Phone: 목포북항-도초도/3/1034167753/23>"
      ]
     },
     "execution_count": 76,
     "metadata": {},
     "output_type": "execute_result"
    }
   ],
   "source": [
    "qs2[0]"
   ]
  },
  {
   "cell_type": "code",
   "execution_count": 7,
   "id": "5df490c8",
   "metadata": {},
   "outputs": [
    {
     "data": {
      "text/plain": [
       "monitor.models.Phone"
      ]
     },
     "execution_count": 7,
     "metadata": {},
     "output_type": "execute_result"
    }
   ],
   "source": [
    "type(qs2[0])"
   ]
  },
  {
   "cell_type": "code",
   "execution_count": 86,
   "id": "929b6eac",
   "metadata": {},
   "outputs": [],
   "source": [
    "mqs = qs2[0].measurecalldata_set.filter(phone_id=2)"
   ]
  },
  {
   "cell_type": "code",
   "execution_count": 85,
   "id": "de0a8cc8",
   "metadata": {},
   "outputs": [
    {
     "data": {
      "text/plain": [
       "<QuerySet []>"
      ]
     },
     "execution_count": 85,
     "metadata": {},
     "output_type": "execute_result"
    }
   ],
   "source": [
    "mqs"
   ]
  },
  {
   "cell_type": "code",
   "execution_count": 87,
   "id": "9a5e9e4b",
   "metadata": {},
   "outputs": [],
   "source": [
    "a_mqs = list(mqs)"
   ]
  },
  {
   "cell_type": "code",
   "execution_count": 88,
   "id": "feb8c861",
   "metadata": {},
   "outputs": [
    {
     "data": {
      "text/plain": [
       "<MeasureCallData: 1034167753/3G/20210901084930079/12/None/12.511/>"
      ]
     },
     "execution_count": 88,
     "metadata": {},
     "output_type": "execute_result"
    }
   ],
   "source": [
    "a_mqs[-1]"
   ]
  },
  {
   "cell_type": "code",
   "execution_count": null,
   "id": "964fb164",
   "metadata": {},
   "outputs": [],
   "source": [
    "Message.objects.create(\n",
    "        phone=phone[0],  ## 폰그룹에서 첫번째 단말기 정보 기입\n",
    "        measdate='20210901',\n",
    "        sendType='TELE',\n",
    "        userInfo1=mdata.userInfo1,\n",
    "        currentCount=mdata.currentCount,\n",
    "        phone_no=mdata.phone_no,\n",
    "        downloadBandwidth=avg_downloadBandwidth,\n",
    "        uploadBandwidth=avg_uploadBandwidth,\n",
    "        messageType='SMS',\n",
    "        message=messageContent,\n",
    "        channelId=channelId,\n",
    "        sended=True\n",
    "    )"
   ]
  },
  {
   "cell_type": "code",
   "execution_count": null,
   "id": "30449a38",
   "metadata": {},
   "outputs": [],
   "source": [
    "try:\n",
    "    conn = msql.connect(host='localhost', \n",
    "                           database='irisDB', user='root', \n",
    "                           password='sql@123')\n",
    "    if conn.is_connected():\n",
    "        cursor = conn.cursor()\n",
    "        cursor.execute(\"select database();\")\n",
    "        record = cursor.fetchone()\n",
    "        print(\"You're connected to database: \", record)\n",
    "        cursor.execute('DROP TABLE IF EXISTS iris;')\n",
    "        print('Creating table....')\n",
    "        cursor.execute(\"CREATE TABLE iris (sepal_length FLOAT(2,1) \n",
    "                        NOT NULL, sepal_width FLOAT(2,1) NOT NULL,\n",
    "                        petal_length FLOAT(2,1) NOT NULL, \n",
    "                        petal_width FLOAT(2,1),species CHAR(11)NOT \n",
    "                        NULL)\")\n",
    "        print(\"iris table is created....\")\n",
    "        for i,row in irisData.iterrows():\n",
    "            sql = \"INSERT INTO irisdb.iris VALUES (%s,%s,%s,%s,%s)\"\n",
    "            cursor.execute(sql, tuple(row))\n",
    "            print(\"Record inserted\")\n",
    "            # the connection is not autocommitted by default, so we \n",
    "             must commit to save our changes\n",
    "            conn.commit()\n",
    "except Error as e:\n",
    "    print(\"Error while connecting to MySQL\", e)\n",
    "    \n",
    "    ### csv 강제로 넣기"
   ]
  },
  {
   "cell_type": "code",
   "execution_count": 13,
   "id": "1b346e63",
   "metadata": {},
   "outputs": [],
   "source": [
    "pg_check_day = PhoneGroup.objects.filter(ispId='45008',measdate='20211101')"
   ]
  },
  {
   "cell_type": "code",
   "execution_count": 14,
   "id": "b42f1944",
   "metadata": {},
   "outputs": [
    {
     "data": {
      "text/plain": [
       "<QuerySet [<PhoneGroup: 20211101>]>"
      ]
     },
     "execution_count": 14,
     "metadata": {},
     "output_type": "execute_result"
    }
   ],
   "source": [
    "pg_check_day"
   ]
  },
  {
   "cell_type": "code",
   "execution_count": 15,
   "id": "f92abf41",
   "metadata": {},
   "outputs": [
    {
     "data": {
      "text/plain": [
       "<QuerySet [<Phone: 서울특별시-금천구-가산동/행-조영-1/1029213855/6>]>"
      ]
     },
     "execution_count": 15,
     "metadata": {},
     "output_type": "execute_result"
    }
   ],
   "source": [
    "pg_check_day[0].phone_set.all()"
   ]
  },
  {
   "cell_type": "code",
   "execution_count": 16,
   "id": "76d9cc20",
   "metadata": {},
   "outputs": [],
   "source": [
    "phone_dic = {}\n",
    "for i, pg_num in enumerate(pg_check_day): \n",
    "    p_check_day = pg_num.phone_set.all()\n",
    "    phone_dic[i] = p_check_day\n",
    "    #p_check_day.update(active=0)"
   ]
  },
  {
   "cell_type": "code",
   "execution_count": 23,
   "id": "88f9ba60",
   "metadata": {},
   "outputs": [
    {
     "data": {
      "text/plain": [
       "1029213855"
      ]
     },
     "execution_count": 23,
     "metadata": {},
     "output_type": "execute_result"
    }
   ],
   "source": [
    "phone_dic[0][0].phone_no"
   ]
  },
  {
   "cell_type": "code",
   "execution_count": 29,
   "id": "a2a91894",
   "metadata": {},
   "outputs": [],
   "source": [
    "sql = ''' select AVG(downloadBandwidth) from tb_ndm_data_measure_sample where userInfo1 = (%s)'''"
   ]
  },
  {
   "cell_type": "code",
   "execution_count": 31,
   "id": "aa5e8499",
   "metadata": {},
   "outputs": [],
   "source": [
    "import mysql.connector\n",
    "import requests, json\n",
    "import time\n",
    "\n",
    "# 데이터베이스 컨넥션을 생성한다.\n",
    "mydb = mysql.connector.connect(\n",
    "    host=\"127.0.0.1\",\n",
    "    user=\"smartnqi\",\n",
    "    passwd=\"nwai1234!\",\n",
    "    database=\"smart\"\n",
    ")\n",
    "\n",
    "# 커서를 생성한다.\n",
    "cur = mydb.cursor(prepared=True)\n",
    "\n",
    "# 쿼리문을 실행한다.\n",
    "cur.execute(sql,('서울특별시-금천구-가산동',))\n",
    "row_headers=[x[0] for x in cur.description]\n",
    "res = cur.fetchall()"
   ]
  },
  {
   "cell_type": "code",
   "execution_count": 18,
   "id": "2f0f6068",
   "metadata": {},
   "outputs": [],
   "source": [
    "from django.db.models import (Sum, Count, Case, When, Avg,IntegerField, Value)"
   ]
  },
  {
   "cell_type": "code",
   "execution_count": 32,
   "id": "270c88ec",
   "metadata": {},
   "outputs": [
    {
     "data": {
      "text/plain": [
       "[(160.6514333333333,)]"
      ]
     },
     "execution_count": 32,
     "metadata": {},
     "output_type": "execute_result"
    }
   ],
   "source": [
    "res"
   ]
  }
 ],
 "metadata": {
  "kernelspec": {
   "display_name": "Django Shell-Plus",
   "language": "python",
   "name": "django_extensions"
  },
  "language_info": {
   "codemirror_mode": {
    "name": "ipython",
    "version": 3
   },
   "file_extension": ".py",
   "mimetype": "text/x-python",
   "name": "python",
   "nbconvert_exporter": "python",
   "pygments_lexer": "ipython3",
   "version": "3.9.7"
  }
 },
 "nbformat": 4,
 "nbformat_minor": 5
}
