{
 "cells": [
  {
   "cell_type": "code",
   "execution_count": null,
   "id": "1c27b24b",
   "metadata": {},
   "outputs": [],
   "source": [
    "\n",
    "\n",
    "use smart;\n",
    "# 측정대상\n",
    "INSERT INTO analysis_measlastyearlte (id,bctDL,bctUL,bctsucc,bctdelay,mctDL,mctUL,mctsucc,mctdelay,sctDL,sctUL,sctsucc,sctdelay,totalctDL,totalctUL,totalctsucc,totalctdelay,ibDL,ibUL,ibsucc,ibdelay,tmDL,tmUL,tmsucc,tmdelay,areatotalDL,areatotalUL,areatotalsucc,areatotaldelay) VALUES (1,1,1,1,1,NULL,NULL,NULL,NULL,NULL,NULL,NULL,NULL,NULL,NULL,NULL,NULL,NULL,NULL,NULL,NULL,NULL,NULL,NULL,NULL,0,0,0,0);\n"
   ]
  }
 ],
 "metadata": {
  "kernelspec": {
   "display_name": "Django Shell-Plus",
   "language": "python",
   "name": "django_extensions"
  },
  "language_info": {
   "codemirror_mode": {
    "name": "ipython",
    "version": 3
   },
   "file_extension": ".py",
   "mimetype": "text/x-python",
   "name": "python",
   "nbconvert_exporter": "python",
   "pygments_lexer": "ipython3",
   "version": "3.8.12"
  }
 },
 "nbformat": 4,
 "nbformat_minor": 5
}
