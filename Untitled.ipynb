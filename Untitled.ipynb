{
 "cells": [
  {
   "cell_type": "code",
   "execution_count": 1,
   "id": "14a34e7d",
   "metadata": {},
   "outputs": [],
   "source": [
    "from monitor.models import *"
   ]
  },
  {
   "cell_type": "code",
   "execution_count": 5,
   "id": "08912d80",
   "metadata": {},
   "outputs": [],
   "source": [
    "qs = PhoneGroup.objects.get(id=1,measdate='20210901')"
   ]
  },
  {
   "cell_type": "code",
   "execution_count": 18,
   "id": "1c8250ba",
   "metadata": {},
   "outputs": [],
   "source": [
    "qs2 = qs.phone_set.all()"
   ]
  },
  {
   "cell_type": "code",
   "execution_count": 25,
   "id": "6b8af5fc",
   "metadata": {},
   "outputs": [
    {
     "data": {
      "text/plain": [
       "1"
      ]
     },
     "execution_count": 25,
     "metadata": {},
     "output_type": "execute_result"
    }
   ],
   "source": [
    "qs.id"
   ]
  },
  {
   "cell_type": "code",
   "execution_count": 21,
   "id": "5e2d26f2",
   "metadata": {},
   "outputs": [
    {
     "data": {
      "text/plain": [
       "2"
      ]
     },
     "execution_count": 21,
     "metadata": {},
     "output_type": "execute_result"
    }
   ],
   "source": [
    "qs2.update(active=1)"
   ]
  },
  {
   "cell_type": "code",
   "execution_count": 3,
   "id": "d22eb6fa",
   "metadata": {},
   "outputs": [
    {
     "data": {
      "text/plain": [
       "<PhoneGroup: 20210901>"
      ]
     },
     "execution_count": 3,
     "metadata": {},
     "output_type": "execute_result"
    }
   ],
   "source": [
    "qs"
   ]
  }
 ],
 "metadata": {
  "kernelspec": {
   "display_name": "Django Shell-Plus",
   "language": "python",
   "name": "django_extensions"
  },
  "language_info": {
   "codemirror_mode": {
    "name": "ipython",
    "version": 3
   },
   "file_extension": ".py",
   "mimetype": "text/x-python",
   "name": "python",
   "nbconvert_exporter": "python",
   "pygments_lexer": "ipython3",
   "version": "3.9.7"
  }
 },
 "nbformat": 4,
 "nbformat_minor": 5
}
