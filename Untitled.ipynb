{
 "cells": [
  {
   "cell_type": "code",
   "execution_count": 1,
   "id": "14a34e7d",
   "metadata": {},
   "outputs": [],
   "source": [
    "from monitor.models import *"
   ]
  },
  {
   "cell_type": "code",
   "execution_count": 89,
   "id": "08912d80",
   "metadata": {},
   "outputs": [],
   "source": [
    "qs = PhoneGroup.objects.get(id=2,measdate='20210901')"
   ]
  },
  {
   "cell_type": "code",
   "execution_count": 90,
   "id": "caefaaaf",
   "metadata": {},
   "outputs": [
    {
     "data": {
      "text/plain": [
       "<PhoneGroup: 20210901>"
      ]
     },
     "execution_count": 90,
     "metadata": {},
     "output_type": "execute_result"
    }
   ],
   "source": [
    "qs"
   ]
  },
  {
   "cell_type": "code",
   "execution_count": 91,
   "id": "1c8250ba",
   "metadata": {},
   "outputs": [],
   "source": [
    "qs2 = qs.phone_set.all()"
   ]
  },
  {
   "cell_type": "code",
   "execution_count": 97,
   "id": "6b8af5fc",
   "metadata": {},
   "outputs": [
    {
     "data": {
      "text/plain": [
       "2"
      ]
     },
     "execution_count": 97,
     "metadata": {},
     "output_type": "execute_result"
    }
   ],
   "source": [
    "len(qs2)"
   ]
  },
  {
   "cell_type": "code",
   "execution_count": 21,
   "id": "5e2d26f2",
   "metadata": {},
   "outputs": [
    {
     "data": {
      "text/plain": [
       "2"
      ]
     },
     "execution_count": 21,
     "metadata": {},
     "output_type": "execute_result"
    }
   ],
   "source": [
    "qs2.update(active=1)"
   ]
  },
  {
   "cell_type": "code",
   "execution_count": 95,
   "id": "d22eb6fa",
   "metadata": {},
   "outputs": [],
   "source": [
    "t = qs2[0]"
   ]
  },
  {
   "cell_type": "code",
   "execution_count": 96,
   "id": "27b90890",
   "metadata": {},
   "outputs": [
    {
     "data": {
      "text/plain": [
       "2"
      ]
     },
     "execution_count": 96,
     "metadata": {},
     "output_type": "execute_result"
    }
   ],
   "source": [
    "t.id"
   ]
  },
  {
   "cell_type": "code",
   "execution_count": 8,
   "id": "ade99356",
   "metadata": {},
   "outputs": [
    {
     "data": {
      "text/plain": [
       "django.db.models.query.QuerySet"
      ]
     },
     "execution_count": 8,
     "metadata": {},
     "output_type": "execute_result"
    }
   ],
   "source": [
    "type(qs2)"
   ]
  },
  {
   "cell_type": "code",
   "execution_count": 76,
   "id": "009ce3e4",
   "metadata": {},
   "outputs": [
    {
     "data": {
      "text/plain": [
       "<Phone: 목포북항-도초도/3/1034167753/23>"
      ]
     },
     "execution_count": 76,
     "metadata": {},
     "output_type": "execute_result"
    }
   ],
   "source": [
    "qs2[0]"
   ]
  },
  {
   "cell_type": "code",
   "execution_count": 7,
   "id": "5df490c8",
   "metadata": {},
   "outputs": [
    {
     "data": {
      "text/plain": [
       "monitor.models.Phone"
      ]
     },
     "execution_count": 7,
     "metadata": {},
     "output_type": "execute_result"
    }
   ],
   "source": [
    "type(qs2[0])"
   ]
  },
  {
   "cell_type": "code",
   "execution_count": 86,
   "id": "929b6eac",
   "metadata": {},
   "outputs": [],
   "source": [
    "mqs = qs2[0].measurecalldata_set.filter(phone_id=2)"
   ]
  },
  {
   "cell_type": "code",
   "execution_count": 85,
   "id": "de0a8cc8",
   "metadata": {},
   "outputs": [
    {
     "data": {
      "text/plain": [
       "<QuerySet []>"
      ]
     },
     "execution_count": 85,
     "metadata": {},
     "output_type": "execute_result"
    }
   ],
   "source": [
    "mqs"
   ]
  },
  {
   "cell_type": "code",
   "execution_count": 87,
   "id": "9a5e9e4b",
   "metadata": {},
   "outputs": [],
   "source": [
    "a_mqs = list(mqs)"
   ]
  },
  {
   "cell_type": "code",
   "execution_count": 88,
   "id": "feb8c861",
   "metadata": {},
   "outputs": [
    {
     "data": {
      "text/plain": [
       "<MeasureCallData: 1034167753/3G/20210901084930079/12/None/12.511/>"
      ]
     },
     "execution_count": 88,
     "metadata": {},
     "output_type": "execute_result"
    }
   ],
   "source": [
    "a_mqs[-1]"
   ]
  },
  {
   "cell_type": "code",
   "execution_count": null,
   "id": "964fb164",
   "metadata": {},
   "outputs": [],
   "source": [
    "Message.objects.create(\n",
    "        phone=phone[0],  ## 폰그룹에서 첫번째 단말기 정보 기입\n",
    "        measdate='20210901',\n",
    "        sendType='TELE',\n",
    "        userInfo1=mdata.userInfo1,\n",
    "        currentCount=mdata.currentCount,\n",
    "        phone_no=mdata.phone_no,\n",
    "        downloadBandwidth=avg_downloadBandwidth,\n",
    "        uploadBandwidth=avg_uploadBandwidth,\n",
    "        messageType='SMS',\n",
    "        message=messageContent,\n",
    "        channelId=channelId,\n",
    "        sended=True\n",
    "    )"
   ]
  }
 ],
 "metadata": {
  "kernelspec": {
   "display_name": "Django Shell-Plus",
   "language": "python",
   "name": "django_extensions"
  },
  "language_info": {
   "codemirror_mode": {
    "name": "ipython",
    "version": 3
   },
   "file_extension": ".py",
   "mimetype": "text/x-python",
   "name": "python",
   "nbconvert_exporter": "python",
   "pygments_lexer": "ipython3",
   "version": "3.9.7"
  }
 },
 "nbformat": 4,
 "nbformat_minor": 5
}
