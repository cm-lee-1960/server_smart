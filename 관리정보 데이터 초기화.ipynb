{
 "cells": [
  {
   "cell_type": "code",
   "execution_count": null,
   "id": "5514e838",
   "metadata": {},
   "outputs": [],
   "source": [
    "# 관리정보 데이터 초기화\n",
    "INSERT INTO management_center (id,centerName,channelId,permissionLevel,active) VALUES (1,'운영본부','-736183270',0,1);\n",
    "\n",
    "INSERT INTO management_measureingteam (id,measdate,message,center_id) VALUES (1,'2021-11-01','ㅇ 금일측정조\\r\\n- 5G/LTE 품질 3개조\\r\\n- LTE/3G 취약지역 품질 1개조\\r\\n- WiFi 품질 1개조',1);\n",
    "\n",
    "INSERT INTO management_morphology (id,words,wordsCond,morphology,manage,center_id) VALUES (1,'행-','시작단어','행정동',1,1);\n",
    "INSERT INTO management_morphology (id,words,wordsCond,morphology,manage,center_id) VALUES (2,'테-','시작단어','테마',1,1);\n",
    "INSERT INTO management_morphology (id,words,wordsCond,morphology,manage,center_id) VALUES (3,'인-','시작단어','인빌딩',1,1);\n",
    "INSERT INTO management_morphology (id,words,wordsCond,morphology,manage,center_id) VALUES (4,'커-','시작단어','커버리지',0,1);\n",
    "INSERT INTO management_morphology (id,words,wordsCond,morphology,manage,center_id) VALUES (5,'커버리지','포함단어','커버리지',0,1);\n",
    "\n",
    "INSERT INTO management_sendfailure (id,areaInd,networkId,dataType,bandwidth, center_id) VALUES (1,'NORM','5G','DL',12,1);\n",
    "INSERT INTO management_sendfailure (id,areaInd,networkId,dataType,bandwidth, center_id) VALUES (2,'NORM','5G','UL',2,1);\n",
    "INSERT INTO management_sendfailure (id,areaInd,networkId,dataType,bandwidth, center_id) VALUES (3,'NORM','LTE','DL',6,1);\n",
    "INSERT INTO management_sendfailure (id,areaInd,networkId,dataType,bandwidth, center_id) VALUES (4,'NORM','LTE','UL',1,1);\n",
    "INSERT INTO management_sendfailure (id,areaInd,networkId,dataType,bandwidth, center_id) VALUES (5,'NORM','3G','DL',0.25,1);\n",
    "INSERT INTO management_sendfailure (id,areaInd,networkId,dataType,bandwidth, center_id) VALUES (6,'NORM','3G','UL',0.125,1);\n",
    "\n",
    "\n",
    "INSERT INTO management_lowthroughput (id,areaInd,networkId,dataType,bandwidth, center_id) VALUES (1,'NORM','5G','DL',12,1);\n",
    "INSERT INTO management_lowthroughput (id,areaInd,networkId,dataType,bandwidth, center_id) VALUES (2,'NORM','5G','UL',2,1);\n",
    "INSERT INTO management_lowthroughput (id,areaInd,networkId,dataType,bandwidth, center_id) VALUES (3,'NORM','LTE','DL',6,1);\n",
    "INSERT INTO management_lowthroughput (id,areaInd,networkId,dataType,bandwidth, center_id) VALUES (4,'NORM','LTE','UL',1,1);\n",
    "INSERT INTO management_lowthroughput (id,areaInd,networkId,dataType,bandwidth, center_id) VALUES (5,'NORM','3G','DL',0.25,1);\n",
    "INSERT INTO management_lowthroughput (id,areaInd,networkId,dataType,bandwidth, center_id) VALUES (6,'NORM','3G','UL',0.125,1);\n"
   ]
  }
 ],
 "metadata": {
  "kernelspec": {
   "display_name": "Django Shell-Plus",
   "language": "python",
   "name": "django_extensions"
  },
  "language_info": {
   "codemirror_mode": {
    "name": "ipython",
    "version": 3
   },
   "file_extension": ".py",
   "mimetype": "text/x-python",
   "name": "python",
   "nbconvert_exporter": "python",
   "pygments_lexer": "ipython3",
   "version": "3.8.12"
  }
 },
 "nbformat": 4,
 "nbformat_minor": 5
}
