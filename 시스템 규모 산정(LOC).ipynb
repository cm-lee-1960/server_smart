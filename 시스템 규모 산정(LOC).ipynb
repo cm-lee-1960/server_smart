{
 "cells": [
  {
   "cell_type": "code",
   "execution_count": 52,
   "id": "0d6f89cb",
   "metadata": {},
   "outputs": [],
   "source": [
    "######################################################################################################################\n",
    "# 시스템 규모 산정(LOC: Line Of Code)\n",
    "######################################################################################################################\n",
    "import os\n",
    "\n",
    "def countlines(start, lines=0, header=True, begin_start=None):\n",
    "    if header:\n",
    "        print('{:>10} |{:>10} | {:<20}'.format('ADDED', 'TOTAL', 'FILE'))\n",
    "        print('{:->11}|{:->11}|{:->20}'.format('', '', ''))\n",
    "\n",
    "    for thing in os.listdir(start):\n",
    "        thing = os.path.join(start, thing)\n",
    "        if os.path.isfile(thing):\n",
    "            if thing.endswith('.py') or thing.endswith('.html') or \\\n",
    "                (thing.endswith('.js') and thing.__contains__('message/sms_')):\n",
    "                if thing.endswith('__init__.py') or thing.__contains__('migrations/00')\\\n",
    "                    or thing.endswith('API.html') or thing.endswith('example.html') \\\n",
    "                    or thing.endswith('tests.py') : continue\n",
    "                with open(thing, 'r') as f:\n",
    "                    newlines = f.readlines()\n",
    "                    newlines = len(newlines)\n",
    "                    lines += newlines\n",
    "\n",
    "                    if begin_start is not None:\n",
    "                        reldir_of_thing = '.' + thing.replace(begin_start, '')\n",
    "                    else:\n",
    "                        reldir_of_thing = '.' + thing.replace(start, '')\n",
    "\n",
    "                    print('{:>10} |{:>10} | {:<20}'.format(\n",
    "                            newlines, lines, reldir_of_thing))\n",
    "\n",
    "\n",
    "    for thing in os.listdir(start):\n",
    "        thing = os.path.join(start, thing)\n",
    "        if os.path.isdir(thing):\n",
    "            lines = countlines(thing, lines, header=False, begin_start=start)\n",
    "\n",
    "    return lines"
   ]
  },
  {
   "cell_type": "code",
   "execution_count": 53,
   "id": "53432e77",
   "metadata": {
    "scrolled": true
   },
   "outputs": [
    {
     "name": "stdout",
     "output_type": "stream",
     "text": [
      "     ADDED |     TOTAL | FILE                \n",
      "-----------|-----------|--------------------\n",
      "        22 |        22 | .manage.py          \n",
      "       278 |       300 | .monitor/geo.py     \n",
      "       388 |       688 | .monitor/close.py   \n",
      "       797 |      1485 | .monitor/models.py  \n",
      "       432 |      1917 | .monitor/events.py  \n",
      "       119 |      2036 | .monitor/serializers.py\n",
      "        13 |      2049 | .monitor/apps.py    \n",
      "         3 |      2052 | .monitor/forms.py   \n",
      "       340 |      2392 | .monitor/admin.py   \n",
      "        12 |      2404 | .monitor/urls.py    \n",
      "       325 |      2729 | .monitor/views.py   \n",
      "       187 |      2916 | .analysis/models.py \n",
      "       532 |      3448 | .analysis/makereport.py\n",
      "         8 |      3456 | .analysis/apps.py   \n",
      "        30 |      3486 | .analysis/forms.py  \n",
      "        30 |      3516 | .analysis/admin.py  \n",
      "       111 |      3627 | .analysis/ajax.py   \n",
      "        28 |      3655 | .analysis/urls.py   \n",
      "       277 |      3932 | .analysis/views.py  \n",
      "       772 |      4704 | ./analysis/daily_report_form.html\n",
      "        87 |      4791 | ./analysis/base.html\n",
      "      1165 |      5956 | ./analysis/register_measdata_form.html\n",
      "       490 |      6446 | ./analysis/dashboard_form.html\n",
      "        16 |      6462 | .smartproject/asgi.py\n",
      "       271 |      6733 | .smartproject/settings.py\n",
      "        67 |      6800 | .smartproject/urls.py\n",
      "        16 |      6816 | .smartproject/wsgi.py\n",
      "        70 |      6886 | ./templates/layout.html\n",
      "         1 |      6887 | ./templates/500.html\n",
      "         2 |      6889 | ./templates/404.html\n",
      "       147 |      7036 | ./admin/base.html   \n",
      "        56 |      7092 | ./admin/change_list_close_btn.html\n",
      "        44 |      7136 | ./admin/base_site.html\n",
      "       251 |      7387 | .management/models.py\n",
      "         7 |      7394 | .management/apps.py \n",
      "       161 |      7555 | .management/admin.py\n",
      "         3 |      7558 | .management/views.py\n",
      "         3 |      7561 | .scheduler/models.py\n",
      "        26 |      7587 | .scheduler/cron.py  \n",
      "         6 |      7593 | .scheduler/apps.py  \n",
      "         3 |      7596 | .scheduler/admin.py \n",
      "        17 |      7613 | .scheduler/utils.py \n",
      "         3 |      7616 | .scheduler/views.py \n",
      "       320 |      7936 | .message/tele_msg.py\n",
      "        27 |      7963 | .message/models.py  \n",
      "        60 |      8023 | .message/sms_broadcast.js\n",
      "       142 |      8165 | .message/sms_api.js \n",
      "        88 |      8253 | .message/xmcs_msg.py\n",
      "         7 |      8260 | .message/apps.py    \n",
      "         1 |      8261 | .message/forms.py   \n",
      "        82 |      8343 | .message/sms_broadcast2.js\n",
      "        77 |      8420 | .message/admin.py   \n",
      "       169 |      8589 | .message/tele_chatbot.py\n",
      "        10 |      8599 | .message/urls.py    \n",
      "       256 |      8855 | .message/msg.py     \n",
      "        76 |      8931 | .message/views.py   \n",
      "        84 |      9015 | ./message/xroshot_page.html\n",
      "         3 |      9018 | .accounts/models.py \n",
      "         6 |      9024 | .accounts/apps.py   \n",
      "         3 |      9027 | .accounts/admin.py  \n",
      "        18 |      9045 | .accounts/urls.py   \n",
      "        48 |      9093 | .accounts/views.py  \n",
      "        79 |      9172 | ./accounts/login_boot.html\n"
     ]
    },
    {
     "data": {
      "text/plain": [
       "9172"
      ]
     },
     "execution_count": 53,
     "metadata": {},
     "output_type": "execute_result"
    }
   ],
   "source": [
    "countlines(\"./\")"
   ]
  },
  {
   "cell_type": "code",
   "execution_count": null,
   "id": "1a3c20c2",
   "metadata": {},
   "outputs": [],
   "source": []
  }
 ],
 "metadata": {
  "kernelspec": {
   "display_name": "Django Shell-Plus",
   "language": "python",
   "name": "django_extensions"
  },
  "language_info": {
   "codemirror_mode": {
    "name": "ipython",
    "version": 3
   },
   "file_extension": ".py",
   "mimetype": "text/x-python",
   "name": "python",
   "nbconvert_exporter": "python",
   "pygments_lexer": "ipython3",
   "version": "3.8.12"
  }
 },
 "nbformat": 4,
 "nbformat_minor": 5
}
