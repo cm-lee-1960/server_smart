{
 "cells": [
  {
   "cell_type": "code",
   "execution_count": 20,
   "id": "0d6f89cb",
   "metadata": {},
   "outputs": [],
   "source": [
    "######################################################################################################################\n",
    "# 시스템 규모 산정(LOC: Line Of Code)\n",
    "######################################################################################################################\n",
    "import os\n",
    "\n",
    "def countlines(start, lines=0, header=True, begin_start=None):\n",
    "    if header:\n",
    "        print('{:>10} |{:>10} | {:<20}'.format('ADDED', 'TOTAL', 'FILE'))\n",
    "        print('{:->11}|{:->11}|{:->20}'.format('', '', ''))\n",
    "\n",
    "    for thing in os.listdir(start):\n",
    "        thing = os.path.join(start, thing)\n",
    "        if os.path.isfile(thing):\n",
    "            if thing.endswith('.py') or thing.endswith('.html'):\n",
    "                if thing.endswith('__init__.py') or thing.__contains__('migrations/00')\\\n",
    "                    or thing.endswith('API.html') or thing.endswith('example.html') : continue\n",
    "                with open(thing, 'r') as f:\n",
    "                    newlines = f.readlines()\n",
    "                    newlines = len(newlines)\n",
    "                    lines += newlines\n",
    "\n",
    "                    if begin_start is not None:\n",
    "                        reldir_of_thing = '.' + thing.replace(begin_start, '')\n",
    "                    else:\n",
    "                        reldir_of_thing = '.' + thing.replace(start, '')\n",
    "\n",
    "                    print('{:>10} |{:>10} | {:<20}'.format(\n",
    "                            newlines, lines, reldir_of_thing))\n",
    "\n",
    "\n",
    "    for thing in os.listdir(start):\n",
    "        thing = os.path.join(start, thing)\n",
    "        if os.path.isdir(thing):\n",
    "            lines = countlines(thing, lines, header=False, begin_start=start)\n",
    "\n",
    "    return lines"
   ]
  },
  {
   "cell_type": "code",
   "execution_count": 21,
   "id": "53432e77",
   "metadata": {},
   "outputs": [
    {
     "name": "stdout",
     "output_type": "stream",
     "text": [
      "     ADDED |     TOTAL | FILE                \n",
      "-----------|-----------|--------------------\n",
      "        22 |        22 | .manage.py          \n",
      "       278 |       300 | .monitor/geo.py     \n",
      "       388 |       688 | .monitor/close.py   \n",
      "       797 |      1485 | .monitor/models.py  \n",
      "       432 |      1917 | .monitor/events.py  \n",
      "       118 |      2035 | .monitor/serializers.py\n",
      "        13 |      2048 | .monitor/apps.py    \n",
      "         3 |      2051 | .monitor/forms.py   \n",
      "       340 |      2391 | .monitor/admin.py   \n",
      "         5 |      2396 | .monitor/tests.py   \n",
      "        12 |      2408 | .monitor/urls.py    \n",
      "       325 |      2733 | .monitor/views.py   \n",
      "       187 |      2920 | .analysis/models.py \n",
      "       532 |      3452 | .analysis/makereport.py\n",
      "         8 |      3460 | .analysis/apps.py   \n",
      "        30 |      3490 | .analysis/forms.py  \n",
      "        30 |      3520 | .analysis/admin.py  \n",
      "       111 |      3631 | .analysis/ajax.py   \n",
      "         3 |      3634 | .analysis/tests.py  \n",
      "        28 |      3662 | .analysis/urls.py   \n",
      "       277 |      3939 | .analysis/views.py  \n",
      "       772 |      4711 | ./analysis/daily_report_form.html\n",
      "        87 |      4798 | ./analysis/base.html\n",
      "      1165 |      5963 | ./analysis/register_measdata_form.html\n",
      "       490 |      6453 | ./analysis/dashboard_form.html\n",
      "        16 |      6469 | .smartproject/asgi.py\n",
      "       271 |      6740 | .smartproject/settings.py\n",
      "        62 |      6802 | .smartproject/urls.py\n",
      "        16 |      6818 | .smartproject/wsgi.py\n",
      "        70 |      6888 | ./templates/layout.html\n",
      "         1 |      6889 | ./templates/500.html\n",
      "         2 |      6891 | ./templates/404.html\n",
      "       147 |      7038 | ./admin/base.html   \n",
      "        56 |      7094 | ./admin/change_list_close_btn.html\n",
      "        44 |      7138 | ./admin/base_site.html\n",
      "       251 |      7389 | .management/models.py\n",
      "         7 |      7396 | .management/apps.py \n",
      "       161 |      7557 | .management/admin.py\n",
      "         3 |      7560 | .management/tests.py\n",
      "         3 |      7563 | .management/views.py\n",
      "         3 |      7566 | .scheduler/models.py\n",
      "        26 |      7592 | .scheduler/cron.py  \n",
      "         6 |      7598 | .scheduler/apps.py  \n",
      "         3 |      7601 | .scheduler/admin.py \n",
      "        17 |      7618 | .scheduler/utils.py \n",
      "         3 |      7621 | .scheduler/tests.py \n",
      "         3 |      7624 | .scheduler/views.py \n",
      "       320 |      7944 | .message/tele_msg.py\n",
      "        27 |      7971 | .message/models.py  \n",
      "        88 |      8059 | .message/xmcs_msg.py\n",
      "         7 |      8066 | .message/apps.py    \n",
      "         1 |      8067 | .message/forms.py   \n",
      "        77 |      8144 | .message/admin.py   \n",
      "       169 |      8313 | .message/tele_chatbot.py\n",
      "         3 |      8316 | .message/tests.py   \n",
      "        10 |      8326 | .message/urls.py    \n",
      "       256 |      8582 | .message/msg.py     \n",
      "        76 |      8658 | .message/views.py   \n",
      "        84 |      8742 | ./message/xroshot_page.html\n",
      "         3 |      8745 | .accounts/models.py \n",
      "         6 |      8751 | .accounts/apps.py   \n",
      "         3 |      8754 | .accounts/admin.py  \n",
      "         3 |      8757 | .accounts/tests.py  \n",
      "        18 |      8775 | .accounts/urls.py   \n",
      "        48 |      8823 | .accounts/views.py  \n",
      "        79 |      8902 | ./accounts/login_boot.html\n",
      "        20 |      8922 | ./accounts/login.html\n"
     ]
    },
    {
     "data": {
      "text/plain": [
       "8922"
      ]
     },
     "execution_count": 21,
     "metadata": {},
     "output_type": "execute_result"
    }
   ],
   "source": [
    "countlines(\"./\")"
   ]
  },
  {
   "cell_type": "code",
   "execution_count": null,
   "id": "1a3c20c2",
   "metadata": {},
   "outputs": [],
   "source": []
  }
 ],
 "metadata": {
  "kernelspec": {
   "display_name": "Django Shell-Plus",
   "language": "python",
   "name": "django_extensions"
  },
  "language_info": {
   "codemirror_mode": {
    "name": "ipython",
    "version": 3
   },
   "file_extension": ".py",
   "mimetype": "text/x-python",
   "name": "python",
   "nbconvert_exporter": "python",
   "pygments_lexer": "ipython3",
   "version": "3.8.12"
  }
 },
 "nbformat": 4,
 "nbformat_minor": 5
}
