{
 "cells": [
  {
   "cell_type": "code",
   "execution_count": null,
   "id": "23e4d794",
   "metadata": {},
   "outputs": [],
   "source": [
    "# 데이터 예시\n",
    "\n",
    "# 데이터베이스 선택\n",
    "use smart;\n",
    "\n",
    "#측정대상\n",
    "INSERT INTO analysis_measplan (id,planYear,hjd5G,dg5G,cv5G,bctLTE,mctLTE,sctLTE,ibLTE,tmLTE,cvLTE,syWiFi,gbWiFi,dsrWeak,yghrWeak,yidsWeak,hadrWeak,total5G,totalLTE,totalWiFi,totalWeakArea,total) VALUES (8,2022,215,215,450,45,45,90,45,45,200,150,50,19,19,47,5,880,470,200,90,1640);\n",
    "\n",
    "#측정결과\n",
    "INSERT INTO analysis_measresult (id,date,measinfo,networkId,district,area,molph_level0,molph_level1) VALUES (6,'2022-03-02','1','5G','서울','행정동','','');\n",
    "INSERT INTO analysis_measresult (id,date,measinfo,networkId,district,area,molph_level0,molph_level1) VALUES (7,'2022-03-03','2','5G','대구','행정동','','');\n",
    "INSERT INTO analysis_measresult (id,date,measinfo,networkId,district,area,molph_level0,molph_level1) VALUES (8,'2022-03-15','3','5G','전남','행정동','','');\n",
    "INSERT INTO analysis_measresult (id,date,measinfo,networkId,district,area,molph_level0,molph_level1) VALUES (9,'2022-03-15','4','5G','대구','다중이용시설/교통인프라','','');\n",
    "INSERT INTO analysis_measresult (id,date,measinfo,networkId,district,area,molph_level0,molph_level1) VALUES (10,'2022-03-10','5','5G','인천','다중이용시설/교통인프라','','');\n",
    "INSERT INTO analysis_measresult (id,date,measinfo,networkId,district,area,molph_level0,molph_level1) VALUES (11,'2022-03-13','6','5G','충남','커버리지','','');\n",
    "INSERT INTO analysis_measresult (id,date,measinfo,networkId,district,area,molph_level0,molph_level1) VALUES (12,'2022-03-11','7','5G','세종','커버리지','','');\n",
    "INSERT INTO analysis_measresult (id,date,measinfo,networkId,district,area,molph_level0,molph_level1) VALUES (13,'2022-03-15','8','LTE','서울','행정동','대도시','');\n",
    "INSERT INTO analysis_measresult (id,date,measinfo,networkId,district,area,molph_level0,molph_level1) VALUES (14,'2022-03-05','9','LTE','충북','행정동','중소도시','');\n",
    "INSERT INTO analysis_measresult (id,date,measinfo,networkId,district,area,molph_level0,molph_level1) VALUES (15,'2022-03-09','10','LTE','전북','행정동','농어촌','');\n",
    "INSERT INTO analysis_measresult (id,date,measinfo,networkId,district,area,molph_level0,molph_level1) VALUES (16,'2022-03-06','11','LTE','광주','','인빌딩','철도역사');\n",
    "INSERT INTO analysis_measresult (id,date,measinfo,networkId,district,area,molph_level0,molph_level1) VALUES (17,'2022-03-22','12','LTE','대구','','인빌딩','백화점');\n",
    "INSERT INTO analysis_measresult (id,date,measinfo,networkId,district,area,molph_level0,molph_level1) VALUES (18,'2022-03-22','13','LTE','울산','','테마','놀이공원');\n",
    "INSERT INTO analysis_measresult (id,date,measinfo,networkId,district,area,molph_level0,molph_level1) VALUES (19,'2022-03-11','14','WiFi','서울','상용','','');\n",
    "INSERT INTO analysis_measresult (id,date,measinfo,networkId,district,area,molph_level0,molph_level1) VALUES (20,'2022-03-04','15','WiFi','수도권','상용','지하철','');\n",
    "INSERT INTO analysis_measresult (id,date,measinfo,networkId,district,area,molph_level0,molph_level1) VALUES (21,'2022-03-23','16','WiFi','수도권','상용','지하철','');\n",
    "INSERT INTO analysis_measresult (id,date,measinfo,networkId,district,area,molph_level0,molph_level1) VALUES (22,'2022-03-20','17','WiFi','울산','개방','','');\n",
    "INSERT INTO analysis_measresult (id,date,measinfo,networkId,district,area,molph_level0,molph_level1) VALUES (23,'2022-03-24','21','5G','울산','다중이용시설/교통인프라','','');\n",
    "INSERT INTO analysis_measresult (id,date,measinfo,networkId,district,area,molph_level0,molph_level1) VALUES (24,'2022-03-24','22','LTE','서울','','인빌딩','대형병원');\n",
    "INSERT INTO analysis_measresult (id,date,measinfo,networkId,district,area,molph_level0,molph_level1) VALUES (25,'2022-03-24','25','LTE','대전','','중소도시','');\n",
    "\n",
    "#5G작년결과\n",
    "INSERT INTO analysis_measlastyear5g (id,bctDL,bctUL,bctLTE,bctsucc,bctdelay,mctDL,mctUL,mctLTE,mctsucc,mctdelay,totalctDL,totalctUL,totalctLTE,totalctsucc,totalctdelay,djDL,djUL,djLTE,djsucc,djdelay,aptDL,aptUL,aptLTE,aptsucc,aptdelay,univDL,univUL,univLTE,univsucc,univdelay,trafficDL,trafficUL,trafficLTE,trafficsucc,trafficdelay,areatotalDL,areatotalUL,areatotalLTE,areatotalsucc,areatotaldelay) VALUES (2,665,63,4.1,99.9,30.4,626,58,11.5,99.9,31.2,647,61,7.6,99.9,30.8,727,60,3.5,99.8,31.9,0,0,0,0,0,0,0,0,0,0,655,58,14.6,99.6,34,0,0,0,0,0);\n",
    "\n",
    "#LTE작년결과\n",
    "INSERT INTO analysis_measlastyearlte (id,bctDL,bctUL,bctsucc,bctdelay,mctDL,mctUL,mctsucc,mctdelay,sctDL,sctUL,sctsucc,sctdelay,totalctDL,totalctUL,totalctsucc,totalctdelay,ibDL,ibUL,ibsucc,ibdelay,tmDL,tmUL,tmsucc,tmdelay,areatotalDL,areatotalUL,areatotalsucc,areatotaldelay) VALUES (2,117,35,99.7,33.9,125,30,99.7,33.9,119,25,99.8,35.2,120,29,99.8,34.6,204,34,99.9,34.6,170,35,99.7,35.9,0,0,0,0);\n",
    "\n",
    "#리포트메세지\n",
    "INSERT INTO analysis_reportmessage (id,msg5G,msgLTE,msgWiFi,msgWeak,msg5Gafter,msgLTEafter) VALUES (6,'울산/전남 지역 측정 중','경기 지역 측정 중','서울/경기 지역 측정 중','','','');\n"
   ]
  }
 ],
 "metadata": {
  "kernelspec": {
   "display_name": "Python 3 (ipykernel)",
   "language": "python",
   "name": "python3"
  },
  "language_info": {
   "codemirror_mode": {
    "name": "ipython",
    "version": 3
   },
   "file_extension": ".py",
   "mimetype": "text/x-python",
   "name": "python",
   "nbconvert_exporter": "python",
   "pygments_lexer": "ipython3",
   "version": "3.9.10"
  }
 },
 "nbformat": 4,
 "nbformat_minor": 5
}
