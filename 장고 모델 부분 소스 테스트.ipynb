{
 "cells": [
  {
   "cell_type": "code",
   "execution_count": 19,
   "id": "b024e8f5",
   "metadata": {},
   "outputs": [],
   "source": [
    "import os\n",
    "os.environ[\"DJANGO_ALLOW_ASYNC_UNSAFE\"] = \"true\""
   ]
  },
  {
   "cell_type": "code",
   "execution_count": 10,
   "id": "76f6381f",
   "metadata": {},
   "outputs": [
    {
     "data": {
      "text/plain": [
       "[3, 10, 27, 37, 57]"
      ]
     },
     "execution_count": 10,
     "metadata": {},
     "output_type": "execute_result"
    }
   ],
   "source": [
    "[ int(x) for x in ReportCycle.objects.all()[0].reportCycle.split(',')]"
   ]
  },
  {
   "cell_type": "code",
   "execution_count": 60,
   "id": "571bffc3",
   "metadata": {},
   "outputs": [],
   "source": [
    " def update_initial_data(self):\n",
    "        phone_list = [ p.phone_no for p in self.phone_set.all()]\n",
    "        qs = Phone.objects.filter(measdate=self.measdate, phone_no__in=phone_list).exclude(phoneGroup=self)\n",
    "        if qs.exists():\n",
    "            measuringTeam = None\n",
    "            for p in qs:\n",
    "                print(p, p.phoneGroup.id, p.phoneGroup.measuringTeam)\n",
    "                if p.phoneGroup.measuringTeam and p.phoneGroup.measuringTeam != None:\n",
    "                    measuringTeam = p.phoneGroup.measuringTeam\n",
    "                    break\n",
    "        print(measuringTeam)"
   ]
  },
  {
   "cell_type": "code",
   "execution_count": 61,
   "id": "a1d2e4f9",
   "metadata": {},
   "outputs": [],
   "source": [
    "pg = PhoneGroup.objects.get(pk=4)"
   ]
  },
  {
   "cell_type": "code",
   "execution_count": 62,
   "id": "daf669ea",
   "metadata": {},
   "outputs": [
    {
     "name": "stdout",
     "output_type": "stream",
     "text": [
      "경상남도-사천시-남양동/행-용택-1/1029213866/41 3 1조\n",
      "1조\n"
     ]
    }
   ],
   "source": [
    "update_initial_data(pg)"
   ]
  },
  {
   "cell_type": "code",
   "execution_count": 65,
   "id": "beb7874a",
   "metadata": {},
   "outputs": [],
   "source": [
    "phone = Phone.objects.get(id=1)"
   ]
  },
  {
   "cell_type": "code",
   "execution_count": 67,
   "id": "7b4bd588",
   "metadata": {},
   "outputs": [
    {
     "name": "stdout",
     "output_type": "stream",
     "text": [
      "0 1\n"
     ]
    }
   ],
   "source": [
    "        # 측정 단말기의 DL/UP 평균값들을 가져온다.\n",
    "        dl_sum, ul_sum, dl_count, ul_count = 0, 0, 0, 0\n",
    "        dl_nr_count, ul_nr_count = 0, 0 # 5G->LTE 전환콜수(DL, UL)ß\n",
    "        avg_downloadBandwidth = 0  # 다운로드 평균속도\n",
    "        avg_uploadBandwidth = 0  # 업로드 평균속도\n",
    "        # nr_count = 0 # 5G->NR 전환 콜수\n",
    "   \n",
    "\n",
    "        # 2022.02.26 - 데이터가 맞지 않아 재작성 함\n",
    "        #            - 속도평균값을 산출할 때 고민해야 하는 사항은 몇번째 턴인지, 현재 콜카운트, 총 측정횟수 등을 고려해야 한다.\n",
    "        #                       <--- tern 1 ----> <--- tern 2 --->\n",
    "        #            - Phone 1: 1,2,3,4,5,6,...27,1,2,3,4,5,...\n",
    "        #              Phone 2: 1,  3,4,5,6,...27,1,2,3,  5,... * 콜이 누락되는 경우도 있음\n",
    "        #            - tern : 현재 콜카운트가 증가하다 감소하면 한개의 턴(측정주기, tern)이 끝난 것으로 판단\n",
    "        #                     즉, 현재 콜카운트가 3이라면 첫번째 측정주기의 3번째 콜인지? 두번째 측정주기의 3번째 콜인지? 확인해서\n",
    "        #                     상대편 측정단말의 속도평균을 산출할때 동일한 기준을 적용해야 한다.   \n",
    "        #\n",
    "        # 2022.03.10 currentCount -> phone.total_count로 변경 적용\n",
    "        # 메시지를 보내려고 하는 측정 단말기\n",
    "        total_count = 0\n",
    "        for m in phone.measurecalldata_set.filter(testNetworkType='speed').order_by(\"meastime\"):\n",
    "            if total_count >= phone.total_count: break\n",
    "            if m.phone.networkId == '5G' and m.networkId == 'NR':\n",
    "                # 측정 단말이 5G이고, 측정 데이터가 NR이면 5G->NR 전환 콜수를 하나 증가시킨다. \n",
    "                if m.downloadBandwidth and m.downloadBandwidth > 0:\n",
    "                    dl_nr_count += 1\n",
    "                if m.uploadBandwidth and m.uploadBandwidth > 0:\n",
    "                    ul_nr_count += 1\n",
    "            else: \n",
    "                # 속도 평균값을 구하기 위한 속도 합계와 콜 카운트를 누적한다. \n",
    "                if m.downloadBandwidth and m.downloadBandwidth > 0:\n",
    "                    dl_sum +=  m.downloadBandwidth\n",
    "                    dl_count += 1\n",
    "                if m.uploadBandwidth and m.uploadBandwidth > 0:\n",
    "                        ul_sum += m.uploadBandwidth\n",
    "                        ul_count += 1\n",
    "            # 5G->LTE 전환포함하여 콜 카운트를 산정한다.\n",
    "            total_count += 1\n",
    "            # print(f\"###-1 {phone.phone_no}/{m.currentCount}/{m.downloadBandwidth}/{m.uploadBandwidth }///\", mdata.currentCount)\n",
    "           \n",
    "        # 상대편 측정 단말기\n",
    "        total_count = 0\n",
    "        qs = phone.phoneGroup.phone_set.filter(ispId='45008', manage=True).exclude(phone_no=phone.phone_no)\n",
    "        if qs.exists():\n",
    "            oPhone = qs[0]\n",
    "            for m in oPhone.measurecalldata_set.filter(testNetworkType='speed').order_by(\"meastime\"):\n",
    "                # 2022.02.25 DL/UL 측정건수가 10건 이상 차이가 나지 않는다는 가정에서 아래 코드가 정상 동작한다.\n",
    "                if total_count >= phone.total_count: break\n",
    "                if m.phone.networkId == '5G' and m.networkId == 'NR':\n",
    "                    # 측정 단말이 5G이고, 측정 데이터가 NR이면 5G->NR 전환 콜수를 하나 증가시킨다. \n",
    "                    if m.downloadBandwidth and m.downloadBandwidth > 0:\n",
    "                        dl_nr_count += 1\n",
    "                    if m.uploadBandwidth and m.uploadBandwidth > 0:\n",
    "                        ul_nr_count += 1\n",
    "                else: \n",
    "                    # 속도 평균값을 구하기 위한 속도 합계와 콜 카운트를 누적한다. \n",
    "                    if m.downloadBandwidth and m.downloadBandwidth > 0:\n",
    "                        dl_sum +=  m.downloadBandwidth\n",
    "                        dl_count += 1\n",
    "                    if m.uploadBandwidth and m.uploadBandwidth > 0:\n",
    "                            ul_sum += m.uploadBandwidth\n",
    "                            ul_count += 1\n",
    "                # 5G->LTE 전환포함하여 콜 카운트를 산정한다.\n",
    "                total_count += 1\n",
    "                # print(f\"###-2 {oPhone.phone_no}/{m.currentCount}/{m.downloadBandwidth}/{m.uploadBandwidth }///\", mdata.currentCount)\n",
    "\n",
    "        # DL/UL 평균속도를 산출한다.         \n",
    "        if dl_count > 0 : avg_downloadBandwidth = round(dl_sum / dl_count,2)\n",
    "        if ul_count > 0 : avg_uploadBandwidth = round(ul_sum / ul_count,2)\n",
    "        # if nr_count > 0 : avg_nrRate = round(nr_count / (dl_count + ul_count) * 100,2)\n",
    "        \n",
    "        print(dl_nr_count, ul_nr_count)"
   ]
  },
  {
   "cell_type": "code",
   "execution_count": 7,
   "id": "2285ad2d",
   "metadata": {},
   "outputs": [],
   "source": [
    "self = PhoneGroup.objects.get(id=8)"
   ]
  },
  {
   "cell_type": "code",
   "execution_count": 8,
   "id": "a5bde285",
   "metadata": {},
   "outputs": [],
   "source": [
    "    def update_initial_data(self):\n",
    "        phone_list = [ p.phone_no for p in self.phone_set.all()]\n",
    "        qs = Phone.objects.filter(measdate=self.measdate, phone_no__in=phone_list).exclude(phoneGroup=self)\n",
    "        print(qs)\n",
    "        if qs.exists():\n",
    "            measuringTeam = None\n",
    "            for p in qs:\n",
    "                print(p, p.phoneGroup.id, p.phoneGroup.measuringTeam)\n",
    "                if p.phoneGroup.measuringTeam and p.phoneGroup.measuringTeam != None:\n",
    "                    measuringTeam = p.phoneGroup.measuringTeam\n",
    "                    break\n",
    "            self.measuringTeam = measuringTeam\n",
    "            self.save()"
   ]
  },
  {
   "cell_type": "code",
   "execution_count": 9,
   "id": "859a0c62",
   "metadata": {},
   "outputs": [
    {
     "name": "stdout",
     "output_type": "stream",
     "text": [
      "<QuerySet [<Phone: 동내면/커버리지 1조/1072010298/1>]>\n",
      "동내면/커버리지 1조/1072010298/1 1 1조\n"
     ]
    }
   ],
   "source": [
    "update_initial_data(self)"
   ]
  },
  {
   "cell_type": "code",
   "execution_count": 27,
   "id": "215781a9",
   "metadata": {},
   "outputs": [
    {
     "name": "stdout",
     "output_type": "stream",
     "text": [
      "<QuerySet [<Phone: 서울특별시-금천구-가산동/행-조영-1/1029213855/1>, <Phone: 서울특별시-금천구-가산동/행-조영-1/1029213942/1>]>\n"
     ]
    },
    {
     "data": {
      "text/plain": [
       "<QuerySet [<Message: Message object (1)>]>"
      ]
     },
     "execution_count": 27,
     "metadata": {},
     "output_type": "execute_result"
    }
   ],
   "source": [
    "mdata = MeasureCallData.objects.get(id=1)\n",
    "# phone_no_list = mdata.phone.phoneGroup.phone_set.all().values_list('phone_no', flat=True)\n",
    "phone_list = mdata.phone.phoneGroup.phone_set.all()\n",
    "print(phone_list)\n",
    "gs = Message.objects.filter(phone__in=phone_list, phone__status='START_M')\n",
    "gs"
   ]
  },
  {
   "cell_type": "code",
   "execution_count": 18,
   "id": "928e2a83",
   "metadata": {},
   "outputs": [
    {
     "data": {
      "text/plain": [
       "<QuerySet []>"
      ]
     },
     "execution_count": 18,
     "metadata": {},
     "output_type": "execute_result"
    }
   ],
   "source": [
    "mdata = MeasureCallData.objects.get(id=163)\n",
    "mdata.phone.phoneGroup\n",
    "qs = Phone.objects.filter(phoneGroup=mdata.phone.phoneGroup, meastype='DL')\n",
    "qs"
   ]
  },
  {
   "cell_type": "code",
   "execution_count": null,
   "id": "1dbb1492",
   "metadata": {},
   "outputs": [],
   "source": [
    "mdata = MessureCallData.objects.filter(meastime=, phone_no=)"
   ]
  },
  {
   "cell_type": "code",
   "execution_count": 20,
   "id": "7d0064a4",
   "metadata": {},
   "outputs": [],
   "source": [
    "def current_count_check(mdata):\n",
    "    \"\"\"DL/UL 측정단말의 현재 콜카운트와 보고기준 콜카운트를 확인한다.\"\"\"\n",
    "    result = False\n",
    "    phone = mdata.phone\n",
    "    # 해당지역에 단말이 첫번째로 측정을 시작했는지 확인한다.\n",
    "    # print(\"current_count_check()-total_count\", phone.total_count)\n",
    "    if mdata.currentCount == 1:\n",
    "        # # 해당일자에 첫번째 측정 단말기일 경우, 측정시작 메시지를 전송한다. \n",
    "        # # 즉, 해당일자에 측정중인 단말이 없다면 메시지를 전송한다.\n",
    "        # qs = Phone.objects.filter(measdate=phone.measdate, manage=True).exclude(phone_no=phone.phone_no)\n",
    "        # if not qs.exists():\n",
    "        #     result = True\n",
    "        # 측정시작 조건 : 현재 콜카운트가 1인 다른 측정 데이터가 있는지 확인\n",
    "        # - 결과 <= 1건 : 자기 자신밖에 없으니 측정시작 메시지 전송\n",
    "        # - 결과 > 1건 : 이미 측정시작 메시지를 전송했으니 메시지를 전송하지 않음\n",
    "        # 2022.03.11 - 1)전체대상 측정시작 메시지(START_F)\n",
    "        meastime_from = int(str(mdata.meastime)[:8] + '000000000') # 조회시작\n",
    "        meastime_to = int(str(mdata.meastime)[:8] + '235959999') # 조회종료\n",
    "        qs = MeasureCallData.objects.filter(Q(meastime__gte=meastime_from) & Q(meastime__lte=meastime_to))\n",
    "        if mdata.phone.status == 'START_F' and len(qs) <= 1:\n",
    "            result = True\n",
    "        \n",
    "        # 2022.03.11 - 2)해당지역 측정시작 메시지(START_M)\n",
    "        # 2-1) 상대편 측정 단말기가 등록되어 있는지 확인한다. \n",
    "        # 2-2) 상대편 측정 단말기에 속도 측정 데이터가 있는지 확인한다.\n",
    "        # 2022.03.15 - 측정 데이터가 첫번째 데이터인지 확인하는 사이에 상대편 단말기에 의한 측정 데이터가 생성되어 해당 지역측정 시작 메시지가 \n",
    "        #              누락되는 현상을 막기 위해 명확하게 전송 메시지 내에 단말기 상태를 가져감\n",
    "        #            - 단말그룹으로 묶여 있는 측정 단말기들로 측정시작 메시지가 전송되었는지를 확인하여 측정시작 메시지를 전송하게 함 \n",
    "        elif mdata.phone.status == 'START_M' and mdata.phone.manage == True:\n",
    "        #     qs = mdata.phone.phoneGroup.phone_set.exclude(phone_no=mdata.phone_no)\n",
    "        #     if qs.exists():\n",
    "        #         oPhone = qs[0]\n",
    "        #         qs = oPhone.measurecalldata_set.filter(currentCount=1, testNetworkType='speed')\n",
    "        #         if not qs.exists():\n",
    "        #             result = True\n",
    "            phone_list = mdata.phone.phoneGroup.phone_set.all()\n",
    "            qs = Message.objects.filter(phone__in=phone_list, status='START_M')\n",
    "            if not qs.exists():\n",
    "                result = True \n",
    "\n",
    "    # elif mdata.currentCount in [3, 10, 27, 37, 57,]:\n",
    "    # 2022.03.10 currentCount -> phone.total_count로 변경 적용\n",
    "    elif phone.total_count in [ int(x) for x in ReportCycle.objects.all()[0].reportCycle.split(',')]:\n",
    "        # 단말기 체인지 되고 재측정시 그데이터도 더해져서 메시지가 보내질수도 있다 그때는 예외조건\n",
    "        # 단밀기 그룹으로 묶여 았는 상대편 측정 단말기를 조회한다.\n",
    "        qs = phone.phoneGroup.phone_set.exclude(phone_no=phone.phone_no)\n",
    "        if qs.exists():\n",
    "            p = qs[0]\n",
    "            # 상대편 측정 단말기의 현재 콜 카운트가 측정 단말 보다 같거나 커야 한다.\n",
    "            if p.total_count >= phone.total_count:\n",
    "                result = True\n",
    "        # 2022.02.26 - 측정단말이 하나인 경우 어떻게 처리해야 할지 고민이 필요하다.\n",
    "        # 2022.03.05 - 속도측정의 경우 대부분 2대의 측정 단말기를 가지고 진행을 하며, 최소한 3콜 이전에는 2대 모두의 측정 데이터가\n",
    "        #              발생한다는 가정으로 진행함\n",
    "        #              즉, 3콜에도 상대편 단말기의 측정 데이터가 없으면 1개의 측정 단말기로 측정을 진행한다고 생각하고,\n",
    "        #              보고주기에 따라 메시지를 보냄\n",
    "        # Case 1 : 1,2,3,4,5,...27,1,2,3,4,5,..27,.. (DL을 측정하고, 이후 UL을 측정하는 경우)\n",
    "        # Case 1 : 1,1,2,2,3,3,4,4,5,5,6,6,...27,27,.. (DL과 UL을 번갈아 한번씩 측정하는 경우)\n",
    "        else:\n",
    "            pass\n",
    "            # 2022.03.10 currentCount -> phone.total_count로 변경 적용하면서 추가 고민해야 함\n",
    "            # qs = MeasureCallData.objects.filter(phone_no=mdata.phone_no, currentCount__lte=mdata.currentCount)\n",
    "            # if qs.exists() and qs.count() > mdata.currentCount:\n",
    "            #    qs = qs.filter(currentCount = mdata.currentCount)\n",
    "            #    if qs.count() > 1:\n",
    "            #         result = True\n",
    "            # else:\n",
    "            #     result = True\n",
    "\n",
    "    return result"
   ]
  },
  {
   "cell_type": "code",
   "execution_count": null,
   "id": "eb52724b",
   "metadata": {},
   "outputs": [],
   "source": []
  }
 ],
 "metadata": {
  "kernelspec": {
   "display_name": "Django Shell-Plus",
   "language": "python",
   "name": "django_extensions"
  },
  "language_info": {
   "codemirror_mode": {
    "name": "ipython",
    "version": 3
   },
   "file_extension": ".py",
   "mimetype": "text/x-python",
   "name": "python",
   "nbconvert_exporter": "python",
   "pygments_lexer": "ipython3",
   "version": "3.8.12"
  }
 },
 "nbformat": 4,
 "nbformat_minor": 5
}
