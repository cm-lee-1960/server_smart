{
 "cells": [
  {
   "cell_type": "code",
   "execution_count": 1,
   "id": "b024e8f5",
   "metadata": {},
   "outputs": [],
   "source": [
    "import os\n",
    "os.environ[\"DJANGO_ALLOW_ASYNC_UNSAFE\"] = \"true\""
   ]
  },
  {
   "cell_type": "code",
   "execution_count": 10,
   "id": "76f6381f",
   "metadata": {},
   "outputs": [
    {
     "data": {
      "text/plain": [
       "[3, 10, 27, 37, 57]"
      ]
     },
     "execution_count": 10,
     "metadata": {},
     "output_type": "execute_result"
    }
   ],
   "source": [
    "[ int(x) for x in ReportCycle.objects.all()[0].reportCycle.split(',')]"
   ]
  },
  {
   "cell_type": "code",
   "execution_count": 60,
   "id": "571bffc3",
   "metadata": {},
   "outputs": [],
   "source": [
    " def update_initial_data(self):\n",
    "        phone_list = [ p.phone_no for p in self.phone_set.all()]\n",
    "        qs = Phone.objects.filter(measdate=self.measdate, phone_no__in=phone_list).exclude(phoneGroup=self)\n",
    "        if qs.exists():\n",
    "            measuringTeam = None\n",
    "            for p in qs:\n",
    "                print(p, p.phoneGroup.id, p.phoneGroup.measuringTeam)\n",
    "                if p.phoneGroup.measuringTeam and p.phoneGroup.measuringTeam != None:\n",
    "                    measuringTeam = p.phoneGroup.measuringTeam\n",
    "                    break\n",
    "        print(measuringTeam)"
   ]
  },
  {
   "cell_type": "code",
   "execution_count": 61,
   "id": "a1d2e4f9",
   "metadata": {},
   "outputs": [],
   "source": [
    "pg = PhoneGroup.objects.get(pk=4)"
   ]
  },
  {
   "cell_type": "code",
   "execution_count": 62,
   "id": "daf669ea",
   "metadata": {},
   "outputs": [
    {
     "name": "stdout",
     "output_type": "stream",
     "text": [
      "경상남도-사천시-남양동/행-용택-1/1029213866/41 3 1조\n",
      "1조\n"
     ]
    }
   ],
   "source": [
    "update_initial_data(pg)"
   ]
  },
  {
   "cell_type": "code",
   "execution_count": 65,
   "id": "beb7874a",
   "metadata": {},
   "outputs": [],
   "source": [
    "phone = Phone.objects.get(id=1)"
   ]
  },
  {
   "cell_type": "code",
   "execution_count": 67,
   "id": "7b4bd588",
   "metadata": {},
   "outputs": [
    {
     "name": "stdout",
     "output_type": "stream",
     "text": [
      "0 1\n"
     ]
    }
   ],
   "source": [
    "        # 측정 단말기의 DL/UP 평균값들을 가져온다.\n",
    "        dl_sum, ul_sum, dl_count, ul_count = 0, 0, 0, 0\n",
    "        dl_nr_count, ul_nr_count = 0, 0 # 5G->LTE 전환콜수(DL, UL)ß\n",
    "        avg_downloadBandwidth = 0  # 다운로드 평균속도\n",
    "        avg_uploadBandwidth = 0  # 업로드 평균속도\n",
    "        # nr_count = 0 # 5G->NR 전환 콜수\n",
    "   \n",
    "\n",
    "        # 2022.02.26 - 데이터가 맞지 않아 재작성 함\n",
    "        #            - 속도평균값을 산출할 때 고민해야 하는 사항은 몇번째 턴인지, 현재 콜카운트, 총 측정횟수 등을 고려해야 한다.\n",
    "        #                       <--- tern 1 ----> <--- tern 2 --->\n",
    "        #            - Phone 1: 1,2,3,4,5,6,...27,1,2,3,4,5,...\n",
    "        #              Phone 2: 1,  3,4,5,6,...27,1,2,3,  5,... * 콜이 누락되는 경우도 있음\n",
    "        #            - tern : 현재 콜카운트가 증가하다 감소하면 한개의 턴(측정주기, tern)이 끝난 것으로 판단\n",
    "        #                     즉, 현재 콜카운트가 3이라면 첫번째 측정주기의 3번째 콜인지? 두번째 측정주기의 3번째 콜인지? 확인해서\n",
    "        #                     상대편 측정단말의 속도평균을 산출할때 동일한 기준을 적용해야 한다.   \n",
    "        #\n",
    "        # 2022.03.10 currentCount -> phone.total_count로 변경 적용\n",
    "        # 메시지를 보내려고 하는 측정 단말기\n",
    "        total_count = 0\n",
    "        for m in phone.measurecalldata_set.filter(testNetworkType='speed').order_by(\"meastime\"):\n",
    "            if total_count >= phone.total_count: break\n",
    "            if m.phone.networkId == '5G' and m.networkId == 'NR':\n",
    "                # 측정 단말이 5G이고, 측정 데이터가 NR이면 5G->NR 전환 콜수를 하나 증가시킨다. \n",
    "                if m.downloadBandwidth and m.downloadBandwidth > 0:\n",
    "                    dl_nr_count += 1\n",
    "                if m.uploadBandwidth and m.uploadBandwidth > 0:\n",
    "                    ul_nr_count += 1\n",
    "            else: \n",
    "                # 속도 평균값을 구하기 위한 속도 합계와 콜 카운트를 누적한다. \n",
    "                if m.downloadBandwidth and m.downloadBandwidth > 0:\n",
    "                    dl_sum +=  m.downloadBandwidth\n",
    "                    dl_count += 1\n",
    "                if m.uploadBandwidth and m.uploadBandwidth > 0:\n",
    "                        ul_sum += m.uploadBandwidth\n",
    "                        ul_count += 1\n",
    "            # 5G->LTE 전환포함하여 콜 카운트를 산정한다.\n",
    "            total_count += 1\n",
    "            # print(f\"###-1 {phone.phone_no}/{m.currentCount}/{m.downloadBandwidth}/{m.uploadBandwidth }///\", mdata.currentCount)\n",
    "           \n",
    "        # 상대편 측정 단말기\n",
    "        total_count = 0\n",
    "        qs = phone.phoneGroup.phone_set.filter(ispId='45008', manage=True).exclude(phone_no=phone.phone_no)\n",
    "        if qs.exists():\n",
    "            oPhone = qs[0]\n",
    "            for m in oPhone.measurecalldata_set.filter(testNetworkType='speed').order_by(\"meastime\"):\n",
    "                # 2022.02.25 DL/UL 측정건수가 10건 이상 차이가 나지 않는다는 가정에서 아래 코드가 정상 동작한다.\n",
    "                if total_count >= phone.total_count: break\n",
    "                if m.phone.networkId == '5G' and m.networkId == 'NR':\n",
    "                    # 측정 단말이 5G이고, 측정 데이터가 NR이면 5G->NR 전환 콜수를 하나 증가시킨다. \n",
    "                    if m.downloadBandwidth and m.downloadBandwidth > 0:\n",
    "                        dl_nr_count += 1\n",
    "                    if m.uploadBandwidth and m.uploadBandwidth > 0:\n",
    "                        ul_nr_count += 1\n",
    "                else: \n",
    "                    # 속도 평균값을 구하기 위한 속도 합계와 콜 카운트를 누적한다. \n",
    "                    if m.downloadBandwidth and m.downloadBandwidth > 0:\n",
    "                        dl_sum +=  m.downloadBandwidth\n",
    "                        dl_count += 1\n",
    "                    if m.uploadBandwidth and m.uploadBandwidth > 0:\n",
    "                            ul_sum += m.uploadBandwidth\n",
    "                            ul_count += 1\n",
    "                # 5G->LTE 전환포함하여 콜 카운트를 산정한다.\n",
    "                total_count += 1\n",
    "                # print(f\"###-2 {oPhone.phone_no}/{m.currentCount}/{m.downloadBandwidth}/{m.uploadBandwidth }///\", mdata.currentCount)\n",
    "\n",
    "        # DL/UL 평균속도를 산출한다.         \n",
    "        if dl_count > 0 : avg_downloadBandwidth = round(dl_sum / dl_count,2)\n",
    "        if ul_count > 0 : avg_uploadBandwidth = round(ul_sum / ul_count,2)\n",
    "        # if nr_count > 0 : avg_nrRate = round(nr_count / (dl_count + ul_count) * 100,2)\n",
    "        \n",
    "        print(dl_nr_count, ul_nr_count)"
   ]
  },
  {
   "cell_type": "code",
   "execution_count": 7,
   "id": "2285ad2d",
   "metadata": {},
   "outputs": [],
   "source": [
    "self = PhoneGroup.objects.get(id=8)"
   ]
  },
  {
   "cell_type": "code",
   "execution_count": 8,
   "id": "a5bde285",
   "metadata": {},
   "outputs": [],
   "source": [
    "    def update_initial_data(self):\n",
    "        phone_list = [ p.phone_no for p in self.phone_set.all()]\n",
    "        qs = Phone.objects.filter(measdate=self.measdate, phone_no__in=phone_list).exclude(phoneGroup=self)\n",
    "        print(qs)\n",
    "        if qs.exists():\n",
    "            measuringTeam = None\n",
    "            for p in qs:\n",
    "                print(p, p.phoneGroup.id, p.phoneGroup.measuringTeam)\n",
    "                if p.phoneGroup.measuringTeam and p.phoneGroup.measuringTeam != None:\n",
    "                    measuringTeam = p.phoneGroup.measuringTeam\n",
    "                    break\n",
    "            self.measuringTeam = measuringTeam\n",
    "            self.save()"
   ]
  },
  {
   "cell_type": "code",
   "execution_count": 9,
   "id": "859a0c62",
   "metadata": {},
   "outputs": [
    {
     "name": "stdout",
     "output_type": "stream",
     "text": [
      "<QuerySet [<Phone: 동내면/커버리지 1조/1072010298/1>]>\n",
      "동내면/커버리지 1조/1072010298/1 1 1조\n"
     ]
    }
   ],
   "source": [
    "update_initial_data(self)"
   ]
  },
  {
   "cell_type": "code",
   "execution_count": 27,
   "id": "215781a9",
   "metadata": {},
   "outputs": [
    {
     "name": "stdout",
     "output_type": "stream",
     "text": [
      "<QuerySet [<Phone: 서울특별시-금천구-가산동/행-조영-1/1029213855/1>, <Phone: 서울특별시-금천구-가산동/행-조영-1/1029213942/1>]>\n"
     ]
    },
    {
     "data": {
      "text/plain": [
       "<QuerySet [<Message: Message object (1)>]>"
      ]
     },
     "execution_count": 27,
     "metadata": {},
     "output_type": "execute_result"
    }
   ],
   "source": [
    "mdata = MeasureCallData.objects.get(id=1)\n",
    "# phone_no_list = mdata.phone.phoneGroup.phone_set.all().values_list('phone_no', flat=True)\n",
    "phone_list = mdata.phone.phoneGroup.phone_set.all()\n",
    "print(phone_list)\n",
    "gs = Message.objects.filter(phone__in=phone_list, phone__status='START_M')\n",
    "gs"
   ]
  },
  {
   "cell_type": "code",
   "execution_count": 18,
   "id": "928e2a83",
   "metadata": {},
   "outputs": [
    {
     "data": {
      "text/plain": [
       "<QuerySet []>"
      ]
     },
     "execution_count": 18,
     "metadata": {},
     "output_type": "execute_result"
    }
   ],
   "source": [
    "mdata = MeasureCallData.objects.get(id=163)\n",
    "mdata.phone.phoneGroup\n",
    "qs = Phone.objects.filter(phoneGroup=mdata.phone.phoneGroup, meastype='DL')\n",
    "qs"
   ]
  },
  {
   "cell_type": "code",
   "execution_count": null,
   "id": "7d0064a4",
   "metadata": {},
   "outputs": [],
   "source": []
  }
 ],
 "metadata": {
  "kernelspec": {
   "display_name": "Django Shell-Plus",
   "language": "python",
   "name": "django_extensions"
  },
  "language_info": {
   "codemirror_mode": {
    "name": "ipython",
    "version": 3
   },
   "file_extension": ".py",
   "mimetype": "text/x-python",
   "name": "python",
   "nbconvert_exporter": "python",
   "pygments_lexer": "ipython3",
   "version": "3.8.12"
  }
 },
 "nbformat": 4,
 "nbformat_minor": 5
}
