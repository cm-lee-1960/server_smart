{
 "cells": [
  {
   "cell_type": "code",
   "execution_count": 9,
   "id": "045c6462",
   "metadata": {},
   "outputs": [
    {
     "name": "stdout",
     "output_type": "stream",
     "text": [
      "Collecting mysql-connector-python\n",
      "  Using cached mysql_connector_python-8.0.28-py2.py3-none-any.whl (342 kB)\n",
      "Collecting protobuf>=3.0.0\n",
      "  Using cached protobuf-3.19.4-py2.py3-none-any.whl (162 kB)\n",
      "Installing collected packages: protobuf, mysql-connector-python\n",
      "Successfully installed mysql-connector-python-8.0.28 protobuf-3.19.4\n"
     ]
    }
   ],
   "source": [
    "!pip install mysql-connector-python"
   ]
  },
  {
   "cell_type": "code",
   "execution_count": 49,
   "id": "64c8b035",
   "metadata": {},
   "outputs": [
    {
     "name": "stdout",
     "output_type": "stream",
     "text": [
      "###1번째 처리: 성공\n",
      "###2번째 처리: 성공\n",
      "###3번째 처리: 성공\n",
      "###4번째 처리: 성공\n",
      "###5번째 처리: 성공\n",
      "###6번째 처리: 성공\n",
      "###7번째 처리: 성공\n",
      "###8번째 처리: 성공\n",
      "###9번째 처리: 성공\n",
      "###10번째 처리: 성공\n",
      "###11번째 처리: 성공\n",
      "###12번째 처리: 성공\n",
      "###13번째 처리: 성공\n",
      "###14번째 처리: 성공\n",
      "###15번째 처리: 성공\n"
     ]
    }
   ],
   "source": [
    "import mysql.connector\n",
    "import requests, json\n",
    "import time\n",
    "\n",
    "# 데이터베이스 컨넥션을 생성한다.\n",
    "mydb = mysql.connector.connect(\n",
    "    host=\"127.0.0.1\",\n",
    "    user=\"smartnqi\",\n",
    "    passwd=\"nwai1234!\",\n",
    "    database=\"smart\"\n",
    ")\n",
    "\n",
    "# 커서를 생성한다.\n",
    "cur = mydb.cursor()\n",
    "\n",
    "# 데이터를 조회할 쿼리문을 작성한다. \n",
    "sql = '''\n",
    "    select \n",
    "        'call' as dataType,\n",
    "        phone_no,\n",
    "        meastime,\n",
    "        networkId,\n",
    "        groupId,\n",
    "        currentTime,\n",
    "        timeline,\n",
    "        cellId,\n",
    "        currentCount,\n",
    "        ispId,\n",
    "        testNetworkType,\n",
    "        userInfo1,\n",
    "        userInfo2,\n",
    "        siDo,\n",
    "        guGun,\n",
    "        addressDetail,\n",
    "        udpJitter,\n",
    "        downloadBandwidth,\n",
    "        uploadBandwidth,\n",
    "        sinr,\n",
    "        isWifi,\n",
    "        latitude,\n",
    "        longitude,\n",
    "        bandType,\n",
    "        p_dl_earfcn,\n",
    "        p_pci,\n",
    "        p_rsrp,\n",
    "        p_SINR,\n",
    "        NR_EARFCN,\n",
    "        NR_PCI,\n",
    "        NR_RSRP,\n",
    "        NR_SINR\n",
    "        from tb_ndm_data_measure  \n",
    "        where \n",
    "            meastime between 20211101000000000 and 20211101235959999\n",
    "         --  and phone_no in (1029213866, 1029213948)\n",
    "         -- and userInfo1 = '서울특별시-금천구-가산동'\n",
    "         -- and meastime <= 20211101085105735\n",
    "       \n",
    "        order by savetime\n",
    "    '''\n",
    "\n",
    "# 쿼리문을 실행한다.\n",
    "cur.execute(sql)\n",
    "row_headers=[x[0] for x in cur.description]\n",
    "res = cur.fetchall()\n",
    "\n",
    "# 데이터를 가져와서 JSON 데이터를 생성한다.\n",
    "for idx, row in enumerate(res):\n",
    "    tmpData = dict(zip(row_headers,row))\n",
    "    jsonData = json.dumps(tmpData)\n",
    "    try:\n",
    "        r = requests.post(\"http://localhost:8000/monitor/json/\", data=jsonData)\n",
    "        # 전송실패 시 오류값을 출력한다.\n",
    "        if r.status_code == 200:\n",
    "            print(f\"###{idx+1}번째 처리: 성공\")\n",
    "        else:\n",
    "            print(f\"###{idx+1}번째 처리: 오류{r.status_code}{r.text}\")\n",
    "    except requests.exceptions.RequestException as e:\n",
    "        print(str(e))\n",
    "\n",
    "    # 초당 3개씩 전달하도록 한다. \n",
    "    # 너무 다량의 데이터를 연속해서 보내면 서버단에서 부하로 오류가 발생한다. \n",
    "#     if idx % 3 == 0:\n",
    "#         time.sleep(1)\n",
    "                  "
   ]
  },
  {
   "cell_type": "markdown",
   "id": "ebdee317",
   "metadata": {
    "collapsed": true
   },
   "source": []
  },
  {
   "cell_type": "code",
   "execution_count": null,
   "id": "de440360",
   "metadata": {},
   "outputs": [],
   "source": []
  }
 ],
 "metadata": {
  "kernelspec": {
   "display_name": "Python 3 (ipykernel)",
   "language": "python",
   "name": "python3"
  },
  "language_info": {
   "codemirror_mode": {
    "name": "ipython",
    "version": 3
   },
   "file_extension": ".py",
   "mimetype": "text/x-python",
   "name": "python",
   "nbconvert_exporter": "python",
   "pygments_lexer": "ipython3",
   "version": "3.8.12"
  }
 },
 "nbformat": 4,
 "nbformat_minor": 5
}
